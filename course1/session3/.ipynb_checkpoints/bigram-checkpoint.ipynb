{
 "cells": [
  {
   "cell_type": "code",
   "execution_count": null,
   "metadata": {
    "collapsed": true
   },
   "outputs": [],
   "source": [
    "import io, sys, math, re\n",
    "from collections import defaultdict\n",
    "import numpy as np"
   ]
  },
  {
   "cell_type": "code",
   "execution_count": null,
   "metadata": {
    "collapsed": true
   },
   "outputs": [],
   "source": [
    "# dataloader\n",
    "\n",
    "def load_data(filename):\n",
    "    fin = io.open(filename, 'r', encoding='utf-8')\n",
    "    data = []\n",
    "    vocab = defaultdict(lambda:0)\n",
    "    for line in fin:\n",
    "        sentence = line.split()\n",
    "        data.append(sentence)\n",
    "        for word in sentence:\n",
    "            vocab[word] += 1\n",
    "    return data, vocab"
   ]
  },
  {
   "cell_type": "code",
   "execution_count": null,
   "metadata": {
    "collapsed": true
   },
   "outputs": [],
   "source": [
    "def remove_rare_words(data, vocab, mincount):\n",
    "    ## FILL CODE\n",
    "    # replace words in data that are not in the vocab \n",
    "    # or have a count that is below mincount\n",
    "    return data_with_unk"
   ]
  },
  {
   "cell_type": "code",
   "execution_count": null,
   "metadata": {
    "collapsed": true
   },
   "outputs": [],
   "source": [
    "# LOAD DATA\n",
    "\n",
    "train_data, vocab = load_data(\"train2.txt\")\n",
    "## FILL CODE \n",
    "# If you have a Out of Vocabulary error (OOV) \n",
    "# call the function \"remove_rare_words\" to replace \n",
    "# rare words with <unk> in the dataset\n",
    "\n",
    "print(\"load validation set\")\n",
    "valid_data, _ = load_data(\"valid2.txt\")\n",
    "## FILL CODE \n",
    "# If you have a Out of Vocabulary error (OOV) \n",
    "# call the function \"remove_rare_words\" to replace \n",
    "# OOV with <unk> in the dataset"
   ]
  },
  {
   "cell_type": "code",
   "execution_count": null,
   "metadata": {
    "collapsed": true
   },
   "outputs": [],
   "source": [
    "# Function to build a bigram model\n",
    "\n",
    "def build_bigram(data):\n",
    "    unigram_counts = defaultdict(lambda:0)\n",
    "    bigram_counts  = defaultdict(lambda: defaultdict(lambda: 0.0))\n",
    "    total_number_words = 0\n",
    "\n",
    "    ## FILL CODE\n",
    "    # Store the unigram and bigram counts as well as the total \n",
    "    # number of words in the dataset\n",
    "\n",
    "    unigram_prob = defaultdict(lambda:0)\n",
    "    bigram_prob = defaultdict(lambda: defaultdict(lambda: 0.0))\n",
    "\n",
    "    ## FILL CODE\n",
    "    # Build unigram and bigram probabilities from counts\n",
    "\n",
    "    return {'bigram': bigram_prob, 'unigram': unigram_prob}"
   ]
  },
  {
   "cell_type": "code",
   "execution_count": null,
   "metadata": {
    "collapsed": true
   },
   "outputs": [],
   "source": [
    "# RUN TO BUILD BIGRAM MODEL\n",
    "\n",
    "print(\"build bigram model\")\n",
    "model = build_bigram(train_data)"
   ]
  },
  {
   "cell_type": "code",
   "execution_count": null,
   "metadata": {
    "collapsed": true
   },
   "outputs": [],
   "source": [
    "def get_prob(model, w1, w2):\n",
    "    assert model[\"unigram\"][w2] != 0, \"Out of Vocabulary word!\"\n",
    "    ## FILL CODE\n",
    "    # Should return the probability of the bigram (w1w2) if it exists\n",
    "    # Else it return the probility of unigram (w2) multiply by 0.4\n",
    "\n",
    "def perplexity(model, data):\n",
    "    ## FILL CODE\n",
    "    # follow the formula in the slides\n",
    "    # call the function get_prob to get P(w2 | w1)\n",
    "    return perp"
   ]
  },
  {
   "cell_type": "code",
   "execution_count": null,
   "metadata": {
    "collapsed": true
   },
   "outputs": [],
   "source": [
    "# COMPUTE PERPLEXITY ON VALIDATION SET\n",
    "\n",
    "print(\"The perplexity is\", perplexity(model, valid_data))"
   ]
  },
  {
   "cell_type": "code",
   "execution_count": null,
   "metadata": {
    "collapsed": true
   },
   "outputs": [],
   "source": [
    "def generate(model):\n",
    "    sentence = [\"<s>\"]\n",
    "    ## FILL CODE\n",
    "    # generate a sentence. A sentence starts with a <s> and ends with a </s>\n",
    "    # Possiblly a use function is:\n",
    "    #   np.random.choice(x, 1, p = y)\n",
    "    # where x is a list of things to sample from\n",
    "    # and y is a list of probability (of the same length as x)\n",
    "    return sentence"
   ]
  },
  {
   "cell_type": "code",
   "execution_count": null,
   "metadata": {
    "collapsed": true
   },
   "outputs": [],
   "source": [
    "# GENERATE A SENTENCE FROM THE MODEL\n",
    "\n",
    "print(\"Generated sentence: \",generate(model))"
   ]
  }
 ],
 "metadata": {
  "kernelspec": {
   "display_name": "python3",
   "language": "python",
   "name": "python3"
  },
  "language_info": {
   "codemirror_mode": {
    "name": "ipython",
    "version": 2
   },
   "file_extension": ".py",
   "mimetype": "text/x-python",
   "name": "python",
   "nbconvert_exporter": "python",
   "pygments_lexer": "ipython2",
   "version": "2.7.16"
  }
 },
 "nbformat": 4,
 "nbformat_minor": 2
}
