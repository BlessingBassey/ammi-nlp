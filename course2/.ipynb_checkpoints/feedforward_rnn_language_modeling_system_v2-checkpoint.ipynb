{
 "cells": [
  {
   "cell_type": "markdown",
   "metadata": {
    "colab_type": "text",
    "id": "view-in-github"
   },
   "source": [
    "<a href=\"https://colab.research.google.com/github/bamtak/ammi-nlp/blob/master/course%202/ff_rnnlms_v2.ipynb\" target=\"_parent\"><img src=\"https://colab.research.google.com/assets/colab-badge.svg\" alt=\"Open In Colab\"/></a>"
   ]
  },
  {
   "cell_type": "markdown",
   "metadata": {
    "colab_type": "text",
    "id": "vSjgxzlD4hAC"
   },
   "source": [
    "# Please Make a copy of this notebook before editing the file"
   ]
  },
  {
   "cell_type": "markdown",
   "metadata": {
    "colab_type": "text",
    "id": "IxZ97MQPbj90"
   },
   "source": [
    "# Feed-forward and Recurrent Language Models"
   ]
  },
  {
   "cell_type": "markdown",
   "metadata": {
    "colab_type": "text",
    "id": "AoI5FUDX4b2G"
   },
   "source": [
    "### Preliminaries"
   ]
  },
  {
   "cell_type": "code",
   "execution_count": 1,
   "metadata": {
    "colab": {
     "base_uri": "https://localhost:8080/",
     "height": 34
    },
    "colab_type": "code",
    "id": "CbX620q-4b2H",
    "outputId": "9b9b1211-ebf6-41d0-bfb4-a09d72579729"
   },
   "outputs": [
    {
     "name": "stdout",
     "output_type": "stream",
     "text": [
      "Populating the interactive namespace from numpy and matplotlib\n"
     ]
    }
   ],
   "source": [
    "%pylab inline\n",
    "%load_ext autoreload\n",
    "%autoreload 2"
   ]
  },
  {
   "cell_type": "code",
   "execution_count": 2,
   "metadata": {
    "colab": {
     "base_uri": "https://localhost:8080/",
     "height": 119
    },
    "colab_type": "code",
    "id": "fjAx0sHC4b2M",
    "outputId": "79cce73d-fddb-4319-f319-c86e938164a9"
   },
   "outputs": [
    {
     "name": "stdout",
     "output_type": "stream",
     "text": [
      "Collecting jsonlines\n",
      "  Downloading https://files.pythonhosted.org/packages/4f/9a/ab96291470e305504aa4b7a2e0ec132e930da89eb3ca7a82fbe03167c131/jsonlines-1.2.0-py2.py3-none-any.whl\n",
      "Requirement already satisfied: tqdm in /usr/local/lib/python3.6/dist-packages (4.28.1)\n",
      "Requirement already satisfied: six in /usr/local/lib/python3.6/dist-packages (from jsonlines) (1.12.0)\n",
      "Installing collected packages: jsonlines\n",
      "Successfully installed jsonlines-1.2.0\n"
     ]
    }
   ],
   "source": [
    "!pip install jsonlines tqdm"
   ]
  },
  {
   "cell_type": "code",
   "execution_count": 3,
   "metadata": {
    "colab": {
     "base_uri": "https://localhost:8080/",
     "height": 1000
    },
    "colab_type": "code",
    "id": "RSqJllXkKGZR",
    "outputId": "0c091915-94c9-4a8e-d30a-4d2217e91605"
   },
   "outputs": [
    {
     "name": "stdout",
     "output_type": "stream",
     "text": [
      "--2020-03-16 20:43:14--  https://nyu.box.com/shared/static/q4nvswb0szelivhgyx87vd1056ttqfyi.jsonl\n",
      "Resolving nyu.box.com (nyu.box.com)... 107.152.29.197\n",
      "Connecting to nyu.box.com (nyu.box.com)|107.152.29.197|:443... connected.\n",
      "HTTP request sent, awaiting response... 301 Moved Permanently\n",
      "Location: /public/static/q4nvswb0szelivhgyx87vd1056ttqfyi.jsonl [following]\n",
      "--2020-03-16 20:43:14--  https://nyu.box.com/public/static/q4nvswb0szelivhgyx87vd1056ttqfyi.jsonl\n",
      "Reusing existing connection to nyu.box.com:443.\n",
      "HTTP request sent, awaiting response... 301 Moved Permanently\n",
      "Location: https://nyu.app.box.com/public/static/q4nvswb0szelivhgyx87vd1056ttqfyi.jsonl [following]\n",
      "--2020-03-16 20:43:14--  https://nyu.app.box.com/public/static/q4nvswb0szelivhgyx87vd1056ttqfyi.jsonl\n",
      "Resolving nyu.app.box.com (nyu.app.box.com)... 107.152.29.199\n",
      "Connecting to nyu.app.box.com (nyu.app.box.com)|107.152.29.199|:443... connected.\n",
      "HTTP request sent, awaiting response... 302 Found\n",
      "Location: https://public.boxcloud.com/d/1/b1!CvT1mhjkFm1rsuFBIe8_h8-y7FgSaNivdkdqbQevjAkzD37pmCpqHsO9a5PImtkY205Wumevgbtx5W_4F5nvF9LgrfT7Goj_pKbiE1qTlLP8KY8kJ-X3FiebpBDojr8DMviBjzlceIj9N1YMHshcYVUk-CFgrItpXAADv-q9i8Ga_uCoiReaxORYfR_y7GmTCxRYR_QCde-4bRNLX7s_apEkQ-ovKMQ41Q9E7tznjLk7k_dsHUqVo7kI9VtDZs2AyumR6CmGeVQquDJmIRTAxXfry-GxekGbJdd0f_OiNGa_BtIyiymD8IxeRyowFdG7O-C9hbI-c1BFE1C2A6jRxTb1Ju4ssRGNeuk-ALZf-xoTFvDk6ppiT1ow6e1UAAuM5caG_bR5YNZ4qdEn8jEmX0Lewb3QwezXSvXC20uvzBrmBAyBtLbGZUODlFheiBijCtLFVr7iz2HSJzHk_RgYEzdnCDnyVId7vQYvw6Xej0iofU9CBuDIaqiZqj5UGB6i4RfodctS6fajjCslHf15oS12-BhgNDYZe0nJ0pbVbGWCdqA8_BBsC0BzytZ5B4UV9o-r29236AW15Q20cVIBv6BFf5R4cvMRbq7PY41piacwwHTT_EF8Xi_eN5lzDCMBK81OSTAmNHe8GOBx6L2qxnKKs_Sx1OHoNlhwQwByrtAjR-DTRbVraDNk9evpPU25FgqrF68D1oeEyB9r4dqGXfRjAxdkwnoLPV9gRwHaatrB9CFLcMMKeN_gz3cN3SzeB1NymPjXwMPU5ayoi5c8X4L9HPOB7dF9nQf_Kfv6q_ek0MkahvZCc0DjHEv2IVtm1ye-kNc41FtImi6qn04l4ms1vOF_6oYYL9tdcfaoLwyjYtRq6Y7uBZ1LOWxxFRhP73E2DVMe1xCT3dUiTl15koPXEU5kDbapRaYuQTkHF0vBpt37vHyE9pHdX6uDbQEp3-jZ_AnkILX8C25BhOBvHwIxB55F0K_qOaJfCOICluF6yZ6hBwi95g3HmJ33c0tYdg7hCLitjEVZLLiAX9QcKYF6651bwnEuhhLkif9l6v2AkxUaM5kWrHbKXk9Tnu5bad7OK6f1fm0XUnyhgPgJDxb_248tS4T_pMrZRYbvEKGdokh9j-9jDjEsUVA0cad0kPqC80KFwMFgIRnq7_pKySztz7EMogWyUNVCDeodQQQxgQFEsOZe05Vw9c3rwOY5wh7XZqbGMN8JLYqQRUFgeXEHA6GAzk-ksN8M7kLOPLN4fSREuOeLUVBF_i3roFcGkmVsocGez7lqQV4eb0pKIEHzBhfTqhyJRrGjHXfCaHxs_x8824e1lWbS8SVuLFtbPHxMv6UjMPclOeDfBk_9R8OTWpCn6dIYv2qVkXYDWS3rovZhbut6BaTdDXC1snylBCY5FyO1HjDHAicWhUBndjK4381jpy0./download [following]\n",
      "--2020-03-16 20:43:15--  https://public.boxcloud.com/d/1/b1!CvT1mhjkFm1rsuFBIe8_h8-y7FgSaNivdkdqbQevjAkzD37pmCpqHsO9a5PImtkY205Wumevgbtx5W_4F5nvF9LgrfT7Goj_pKbiE1qTlLP8KY8kJ-X3FiebpBDojr8DMviBjzlceIj9N1YMHshcYVUk-CFgrItpXAADv-q9i8Ga_uCoiReaxORYfR_y7GmTCxRYR_QCde-4bRNLX7s_apEkQ-ovKMQ41Q9E7tznjLk7k_dsHUqVo7kI9VtDZs2AyumR6CmGeVQquDJmIRTAxXfry-GxekGbJdd0f_OiNGa_BtIyiymD8IxeRyowFdG7O-C9hbI-c1BFE1C2A6jRxTb1Ju4ssRGNeuk-ALZf-xoTFvDk6ppiT1ow6e1UAAuM5caG_bR5YNZ4qdEn8jEmX0Lewb3QwezXSvXC20uvzBrmBAyBtLbGZUODlFheiBijCtLFVr7iz2HSJzHk_RgYEzdnCDnyVId7vQYvw6Xej0iofU9CBuDIaqiZqj5UGB6i4RfodctS6fajjCslHf15oS12-BhgNDYZe0nJ0pbVbGWCdqA8_BBsC0BzytZ5B4UV9o-r29236AW15Q20cVIBv6BFf5R4cvMRbq7PY41piacwwHTT_EF8Xi_eN5lzDCMBK81OSTAmNHe8GOBx6L2qxnKKs_Sx1OHoNlhwQwByrtAjR-DTRbVraDNk9evpPU25FgqrF68D1oeEyB9r4dqGXfRjAxdkwnoLPV9gRwHaatrB9CFLcMMKeN_gz3cN3SzeB1NymPjXwMPU5ayoi5c8X4L9HPOB7dF9nQf_Kfv6q_ek0MkahvZCc0DjHEv2IVtm1ye-kNc41FtImi6qn04l4ms1vOF_6oYYL9tdcfaoLwyjYtRq6Y7uBZ1LOWxxFRhP73E2DVMe1xCT3dUiTl15koPXEU5kDbapRaYuQTkHF0vBpt37vHyE9pHdX6uDbQEp3-jZ_AnkILX8C25BhOBvHwIxB55F0K_qOaJfCOICluF6yZ6hBwi95g3HmJ33c0tYdg7hCLitjEVZLLiAX9QcKYF6651bwnEuhhLkif9l6v2AkxUaM5kWrHbKXk9Tnu5bad7OK6f1fm0XUnyhgPgJDxb_248tS4T_pMrZRYbvEKGdokh9j-9jDjEsUVA0cad0kPqC80KFwMFgIRnq7_pKySztz7EMogWyUNVCDeodQQQxgQFEsOZe05Vw9c3rwOY5wh7XZqbGMN8JLYqQRUFgeXEHA6GAzk-ksN8M7kLOPLN4fSREuOeLUVBF_i3roFcGkmVsocGez7lqQV4eb0pKIEHzBhfTqhyJRrGjHXfCaHxs_x8824e1lWbS8SVuLFtbPHxMv6UjMPclOeDfBk_9R8OTWpCn6dIYv2qVkXYDWS3rovZhbut6BaTdDXC1snylBCY5FyO1HjDHAicWhUBndjK4381jpy0./download\n",
      "Resolving public.boxcloud.com (public.boxcloud.com)... 107.152.25.200\n",
      "Connecting to public.boxcloud.com (public.boxcloud.com)|107.152.25.200|:443... connected.\n",
      "HTTP request sent, awaiting response... 200 OK\n",
      "Length: 13403897 (13M) [application/octet-stream]\n",
      "Saving to: ‘personachat_all_sentences_train.jsonl’\n",
      "\n",
      "personachat_all_sen 100%[===================>]  12.78M  22.3MB/s    in 0.6s    \n",
      "\n",
      "2020-03-16 20:43:16 (22.3 MB/s) - ‘personachat_all_sentences_train.jsonl’ saved [13403897/13403897]\n",
      "\n",
      "--2020-03-16 20:43:17--  https://nyu.box.com/shared/static/8krcizo8sms1m0ppy7uiwfcx4a3l5nsq.jsonl\n",
      "Resolving nyu.box.com (nyu.box.com)... 107.152.29.197\n",
      "Connecting to nyu.box.com (nyu.box.com)|107.152.29.197|:443... connected.\n",
      "HTTP request sent, awaiting response... 301 Moved Permanently\n",
      "Location: /public/static/8krcizo8sms1m0ppy7uiwfcx4a3l5nsq.jsonl [following]\n",
      "--2020-03-16 20:43:17--  https://nyu.box.com/public/static/8krcizo8sms1m0ppy7uiwfcx4a3l5nsq.jsonl\n",
      "Reusing existing connection to nyu.box.com:443.\n",
      "HTTP request sent, awaiting response... 301 Moved Permanently\n",
      "Location: https://nyu.app.box.com/public/static/8krcizo8sms1m0ppy7uiwfcx4a3l5nsq.jsonl [following]\n",
      "--2020-03-16 20:43:18--  https://nyu.app.box.com/public/static/8krcizo8sms1m0ppy7uiwfcx4a3l5nsq.jsonl\n",
      "Resolving nyu.app.box.com (nyu.app.box.com)... 107.152.29.199\n",
      "Connecting to nyu.app.box.com (nyu.app.box.com)|107.152.29.199|:443... connected.\n",
      "HTTP request sent, awaiting response... 302 Found\n",
      "Location: https://public.boxcloud.com/d/1/b1!XvVggoB9dYjMSoEI__q5VPRmHskY7ySKhBEVA8RMeZRAtemgVDc0YEyvIOz_vdnck00TNO5UZByTrxHDhqigPTJXCXkIpYrtocKYD3xMfoOAOmsa8MXR9tp-sjqbFPxchidZCZpFXjg0yKG09HDM-avPoRppMPU6KFZpGEEVKHuZtshhoAn1g2bLy1sIlUO9GJn7SLX38klj7a55QrqXxDQstXBCaSJ2NEW8bNYarPMmpSZ8RIK8sewxQ4fuh7CAw0s6k32gOj0xGU4HN0hml3uC_je-bOAURSv15UpTBaTh12QLJ7kKEPG47sWx-TFgG2Ai4KL5DCJW9iZIWQE6Td-oITUlxeXs_cJbs57Fl9qEBQJNSl2sIEY0iiFgbK9YLqXHKosZhNRB-ffgw-vL7J1aO6f2-ngfh_-diw52hFOwRWBRvQvVZN8ULpXZmPzObIaJCyEcgfEAcHKPuTI5rqHSD4perUP5_f2h2HK-0lKGTS1af7Uo3HrSfXZLqLAzhOKlW9paVUbJ6L_XkFilNd6EZtVBtkvwX-D2nZUfHWHkVrD5zlv-w9y7nZqbnRIg0ru_dFXs9qDylZurzrIBs1IPIb-jba_aYnbz8hq_b9huZtEHymQsA3Ao6DqkU5fgCztD9brnn_bI4DjA2mAmw7HouPjOgw6WPGHcRuo1ftMOecCcYPwtNPoYHeAUskmHiNYVpyKuULinTWpD1ZprPNyGA5I56WKLgszbvBDtrHRIeThXaY7ocW-J2Tqeuwygl8FjR9gWc8EO_SNsL2W8x5Lm2i45H34TS-Torb7v9KBkvV6abYpCw30O2wtzvNjSVMWibQ6putrmtaQ8pjOK0UO8bEHqksF5iycVjCFq-Zp-LXBP_zdpg8j-ElazD_NyBPUQ4VV5xuS1O7k-WkgqK4__LxVsBdR2CauPJIDNQ78gaKfDkonCkWn42F-jrgXUiJYQnUIoH-HSchgPaF8V1MCnCA_TrJQotQhi5LyRDRyi_S1gJLSNhtDNAIII-5I9HpQYhn_EVNCzQzhjtl70-Pgnpq6Y-59v3YmY9SUIq4Y1bnxSF3t-QVAf26eABNPON5bGcuMV_jZ6Kplw-wX0qEDUfLC6j5kosvIPcq3ALkGBjWK6ZcHrwDJyZ64CPJbAeOIAF5lV_31Aovo6evvQeDCHtYUMJqonTsABpTrU_wYpVSqFjNF9uTJ4it6N4M8_cqc8NHyO5bcBRKFisP9-J-KbA0HYm6D53tu9Yd3xhKZDZIejsTJmusuEHAikaWB2GFt-PsEljh4WKHteOHIanEdgPFKSJ_oIqeLn0E6ufGLXFinwfrmxowCx0BTW3BNNbTl8MQsBnyYTYXFqzvd31eT0D06UFdfRZrc0ooxrom46JSnf6o5mmkiOPIlO3Xar8_aJVCbxQHGUaR4oL844cPSW2bfaRw../download [following]\n",
      "--2020-03-16 20:43:18--  https://public.boxcloud.com/d/1/b1!XvVggoB9dYjMSoEI__q5VPRmHskY7ySKhBEVA8RMeZRAtemgVDc0YEyvIOz_vdnck00TNO5UZByTrxHDhqigPTJXCXkIpYrtocKYD3xMfoOAOmsa8MXR9tp-sjqbFPxchidZCZpFXjg0yKG09HDM-avPoRppMPU6KFZpGEEVKHuZtshhoAn1g2bLy1sIlUO9GJn7SLX38klj7a55QrqXxDQstXBCaSJ2NEW8bNYarPMmpSZ8RIK8sewxQ4fuh7CAw0s6k32gOj0xGU4HN0hml3uC_je-bOAURSv15UpTBaTh12QLJ7kKEPG47sWx-TFgG2Ai4KL5DCJW9iZIWQE6Td-oITUlxeXs_cJbs57Fl9qEBQJNSl2sIEY0iiFgbK9YLqXHKosZhNRB-ffgw-vL7J1aO6f2-ngfh_-diw52hFOwRWBRvQvVZN8ULpXZmPzObIaJCyEcgfEAcHKPuTI5rqHSD4perUP5_f2h2HK-0lKGTS1af7Uo3HrSfXZLqLAzhOKlW9paVUbJ6L_XkFilNd6EZtVBtkvwX-D2nZUfHWHkVrD5zlv-w9y7nZqbnRIg0ru_dFXs9qDylZurzrIBs1IPIb-jba_aYnbz8hq_b9huZtEHymQsA3Ao6DqkU5fgCztD9brnn_bI4DjA2mAmw7HouPjOgw6WPGHcRuo1ftMOecCcYPwtNPoYHeAUskmHiNYVpyKuULinTWpD1ZprPNyGA5I56WKLgszbvBDtrHRIeThXaY7ocW-J2Tqeuwygl8FjR9gWc8EO_SNsL2W8x5Lm2i45H34TS-Torb7v9KBkvV6abYpCw30O2wtzvNjSVMWibQ6putrmtaQ8pjOK0UO8bEHqksF5iycVjCFq-Zp-LXBP_zdpg8j-ElazD_NyBPUQ4VV5xuS1O7k-WkgqK4__LxVsBdR2CauPJIDNQ78gaKfDkonCkWn42F-jrgXUiJYQnUIoH-HSchgPaF8V1MCnCA_TrJQotQhi5LyRDRyi_S1gJLSNhtDNAIII-5I9HpQYhn_EVNCzQzhjtl70-Pgnpq6Y-59v3YmY9SUIq4Y1bnxSF3t-QVAf26eABNPON5bGcuMV_jZ6Kplw-wX0qEDUfLC6j5kosvIPcq3ALkGBjWK6ZcHrwDJyZ64CPJbAeOIAF5lV_31Aovo6evvQeDCHtYUMJqonTsABpTrU_wYpVSqFjNF9uTJ4it6N4M8_cqc8NHyO5bcBRKFisP9-J-KbA0HYm6D53tu9Yd3xhKZDZIejsTJmusuEHAikaWB2GFt-PsEljh4WKHteOHIanEdgPFKSJ_oIqeLn0E6ufGLXFinwfrmxowCx0BTW3BNNbTl8MQsBnyYTYXFqzvd31eT0D06UFdfRZrc0ooxrom46JSnf6o5mmkiOPIlO3Xar8_aJVCbxQHGUaR4oL844cPSW2bfaRw../download\n",
      "Resolving public.boxcloud.com (public.boxcloud.com)... 107.152.25.200\n",
      "Connecting to public.boxcloud.com (public.boxcloud.com)|107.152.25.200|:443... connected.\n",
      "HTTP request sent, awaiting response... 200 OK\n",
      "Length: 1640194 (1.6M) [application/octet-stream]\n",
      "Saving to: ‘personachat_all_sentences_valid.jsonl’\n",
      "\n",
      "personachat_all_sen 100%[===================>]   1.56M  5.94MB/s    in 0.3s    \n",
      "\n",
      "2020-03-16 20:43:19 (5.94 MB/s) - ‘personachat_all_sentences_valid.jsonl’ saved [1640194/1640194]\n",
      "\n",
      "--2020-03-16 20:43:20--  https://nyu.box.com/shared/static/im7we9k2gcf8kslqnfamsimicgosuw9y.jsonl\n",
      "Resolving nyu.box.com (nyu.box.com)... 107.152.29.197\n",
      "Connecting to nyu.box.com (nyu.box.com)|107.152.29.197|:443... connected.\n",
      "HTTP request sent, awaiting response... 301 Moved Permanently\n",
      "Location: /public/static/im7we9k2gcf8kslqnfamsimicgosuw9y.jsonl [following]\n",
      "--2020-03-16 20:43:20--  https://nyu.box.com/public/static/im7we9k2gcf8kslqnfamsimicgosuw9y.jsonl\n",
      "Reusing existing connection to nyu.box.com:443.\n",
      "HTTP request sent, awaiting response... 301 Moved Permanently\n",
      "Location: https://nyu.app.box.com/public/static/im7we9k2gcf8kslqnfamsimicgosuw9y.jsonl [following]\n",
      "--2020-03-16 20:43:20--  https://nyu.app.box.com/public/static/im7we9k2gcf8kslqnfamsimicgosuw9y.jsonl\n",
      "Resolving nyu.app.box.com (nyu.app.box.com)... 107.152.29.199\n",
      "Connecting to nyu.app.box.com (nyu.app.box.com)|107.152.29.199|:443... connected.\n",
      "HTTP request sent, awaiting response... 302 Found\n",
      "Location: https://public.boxcloud.com/d/1/b1!YIlBciZAByrXLsAFMY-J1LpilJlwYJm-vpXlVXelAdRuZyM5YGHWaf3MiTgRL_GvTUHQIzmWVHFpRXTRyMRI3p7ljMgjksSp_oyERu-FODEX0fPEGbxWyH_K_Cgx6risayDP4PR05odFfWhhhQsK58Y0zj3x70ud8KDaKiGu4NP4iy_fGzGhNxUgIRhiua4GxguntERTqNGK5XP_H_8p7PNVvzDNqMod-XMd8M-vYtTNqiATVKLqVU6mBhiyxsdPOo9ZpWcJSZNDyAYLKMz4YzcHcJ8T-9kR6IcGgWGqqq5MEeZjAVABQm4OU-uy6g7m0fZfI00PRJYiHcGMOYovz9Z4xhlaMdIvPZDl-XT4fbBKHwwrPx136-RRv5AJ6nYubwoX6PB1nbJWVf1YJhGdDbUEy6C6cu6e3fNWyqXSW9_CuJra2JbH0hHE3MRb9lIoJQEFsij7NK74ff2koI6n4-EtJBluzBJO8dQR4mKtCB1OR0f0LwY5hABFqSNmtRc3Pog6pYe3ZROHejgQgCeL9PVkeaDb8H4XOAPK34rYCSiQh-z9OZW7hh30Uv0tuJI3By0S-NFz6lZgCyeqXmg3r_BwrwQgCThFzbBGpa43RHEuRBUAWxanjJlrTW2-Ue4UXdMjFzwGN5HHQgQkBJXN_qIC0WGr4v9k-PIUtgch4i6V1r6KTks8zC0UPvA23JuUAAM3axvFfYOi9JUO7mSzHvN29T9b1ilIL5Y3Z3vaV20DeA0ZGud0coO6VOWWertYRQMBN0fzuTm9wyHdv-twm_9V-myQoGZ5kD9KGI3NooPHQcG1BWusTrXDdI7bSM-CtyA2EzWWKSElVWBS3BxoGfubDRf43pt9UOA792CJSylc_tps-AH9d5IDknWIKVHsW4QZoD95Dh-An7MC1gSAoXUH-YqJta_60Cket15XN7JFvrFcKSh7hoh6sv5RvMU2yckHSmXdCzTBvY2bd_zhwBXMCpJhFBt2xsXWH5A5XEYXwuiOKC-jojaUcR5pmuy1wRHgaLNDJdGnb8afit7Uoc5jaxcEbf2YxPYFKSqMgY_rH030GcQiKSvsgpAFieQSUXRTa6pCvWzcBnpHrNEVV6X46XHKjtuJDRu6z3qwAXvD4WrIgGa8hWNpIjaW0SGOFHb8GydvTkAWmPI_AvQQ2VW6FoRq33CvwoKYJ1dhXVARoNdJK03zpoHv5_u7l4pKq20XrXI8SoDxCe-5l3JHw74r6MPgYHp98m_gOJADFHch50EZU3bFhYSFm-iD-Oq5QFGvAz0knhl5ADuvk7H-5dFWkeERLQ3pgLVEgXUSlQQEX1djEp_lzRwODxus3IKIex05ql5W56t8W2ivtWa-LR6ZTcaCij1MAO38RqkN5-FrX5L-LgRJrfJ_YpZR6IxbUCUkAJfDEu-IAKZIFVGsYRHZWWc./download [following]\n",
      "--2020-03-16 20:43:21--  https://public.boxcloud.com/d/1/b1!YIlBciZAByrXLsAFMY-J1LpilJlwYJm-vpXlVXelAdRuZyM5YGHWaf3MiTgRL_GvTUHQIzmWVHFpRXTRyMRI3p7ljMgjksSp_oyERu-FODEX0fPEGbxWyH_K_Cgx6risayDP4PR05odFfWhhhQsK58Y0zj3x70ud8KDaKiGu4NP4iy_fGzGhNxUgIRhiua4GxguntERTqNGK5XP_H_8p7PNVvzDNqMod-XMd8M-vYtTNqiATVKLqVU6mBhiyxsdPOo9ZpWcJSZNDyAYLKMz4YzcHcJ8T-9kR6IcGgWGqqq5MEeZjAVABQm4OU-uy6g7m0fZfI00PRJYiHcGMOYovz9Z4xhlaMdIvPZDl-XT4fbBKHwwrPx136-RRv5AJ6nYubwoX6PB1nbJWVf1YJhGdDbUEy6C6cu6e3fNWyqXSW9_CuJra2JbH0hHE3MRb9lIoJQEFsij7NK74ff2koI6n4-EtJBluzBJO8dQR4mKtCB1OR0f0LwY5hABFqSNmtRc3Pog6pYe3ZROHejgQgCeL9PVkeaDb8H4XOAPK34rYCSiQh-z9OZW7hh30Uv0tuJI3By0S-NFz6lZgCyeqXmg3r_BwrwQgCThFzbBGpa43RHEuRBUAWxanjJlrTW2-Ue4UXdMjFzwGN5HHQgQkBJXN_qIC0WGr4v9k-PIUtgch4i6V1r6KTks8zC0UPvA23JuUAAM3axvFfYOi9JUO7mSzHvN29T9b1ilIL5Y3Z3vaV20DeA0ZGud0coO6VOWWertYRQMBN0fzuTm9wyHdv-twm_9V-myQoGZ5kD9KGI3NooPHQcG1BWusTrXDdI7bSM-CtyA2EzWWKSElVWBS3BxoGfubDRf43pt9UOA792CJSylc_tps-AH9d5IDknWIKVHsW4QZoD95Dh-An7MC1gSAoXUH-YqJta_60Cket15XN7JFvrFcKSh7hoh6sv5RvMU2yckHSmXdCzTBvY2bd_zhwBXMCpJhFBt2xsXWH5A5XEYXwuiOKC-jojaUcR5pmuy1wRHgaLNDJdGnb8afit7Uoc5jaxcEbf2YxPYFKSqMgY_rH030GcQiKSvsgpAFieQSUXRTa6pCvWzcBnpHrNEVV6X46XHKjtuJDRu6z3qwAXvD4WrIgGa8hWNpIjaW0SGOFHb8GydvTkAWmPI_AvQQ2VW6FoRq33CvwoKYJ1dhXVARoNdJK03zpoHv5_u7l4pKq20XrXI8SoDxCe-5l3JHw74r6MPgYHp98m_gOJADFHch50EZU3bFhYSFm-iD-Oq5QFGvAz0knhl5ADuvk7H-5dFWkeERLQ3pgLVEgXUSlQQEX1djEp_lzRwODxus3IKIex05ql5W56t8W2ivtWa-LR6ZTcaCij1MAO38RqkN5-FrX5L-LgRJrfJ_YpZR6IxbUCUkAJfDEu-IAKZIFVGsYRHZWWc./download\n",
      "Resolving public.boxcloud.com (public.boxcloud.com)... 107.152.25.200\n",
      "Connecting to public.boxcloud.com (public.boxcloud.com)|107.152.25.200|:443... connected.\n",
      "HTTP request sent, awaiting response... 200 OK\n",
      "Length: 1559597 (1.5M) [application/octet-stream]\n",
      "Saving to: ‘personachat_all_sentences_test.jsonl’\n",
      "\n",
      "personachat_all_sen 100%[===================>]   1.49M  7.47MB/s    in 0.2s    \n",
      "\n",
      "2020-03-16 20:43:21 (7.47 MB/s) - ‘personachat_all_sentences_test.jsonl’ saved [1559597/1559597]\n",
      "\n",
      "--2020-03-16 20:43:23--  https://nyu.box.com/shared/static/9kb7l7ci30hb6uahhbssjlq0kctr5ii4.json\n",
      "Resolving nyu.box.com (nyu.box.com)... 107.152.29.197\n",
      "Connecting to nyu.box.com (nyu.box.com)|107.152.29.197|:443... connected.\n",
      "HTTP request sent, awaiting response... 301 Moved Permanently\n",
      "Location: /public/static/9kb7l7ci30hb6uahhbssjlq0kctr5ii4.json [following]\n",
      "--2020-03-16 20:43:23--  https://nyu.box.com/public/static/9kb7l7ci30hb6uahhbssjlq0kctr5ii4.json\n",
      "Reusing existing connection to nyu.box.com:443.\n",
      "HTTP request sent, awaiting response... 301 Moved Permanently\n",
      "Location: https://nyu.app.box.com/public/static/9kb7l7ci30hb6uahhbssjlq0kctr5ii4.json [following]\n",
      "--2020-03-16 20:43:23--  https://nyu.app.box.com/public/static/9kb7l7ci30hb6uahhbssjlq0kctr5ii4.json\n",
      "Resolving nyu.app.box.com (nyu.app.box.com)... 107.152.29.199\n",
      "Connecting to nyu.app.box.com (nyu.app.box.com)|107.152.29.199|:443... connected.\n",
      "HTTP request sent, awaiting response... 302 Found\n",
      "Location: https://public.boxcloud.com/d/1/b1!2poR3LPwnF3LTr1u8JDWtLYE1He3XGJHsLb2z2KNM0VzCw6Zt639TVKBqtUljA1lnbJ4nPW4Ammns-K3f6YpRhh5fVFho0k5fX91vKvJT6d_L53DqHsbrATP2gBybO_oYTaMczHdLN0wcFcB6G54t2ky7umLPMBewOa7VGoWgVExacLnEUw_oj7iEeR76374VhSVJL0xd0HDEa0r1v8b9h8dwG-3zJt2VwE_lZm2r0-kASV-4fPWeLvBaUMrwW0ByZoyhps7os--YerElklVDLo2pUziW3oIDL0L6ueYsOUBPHCHx5hYZGe-Y_p2o95KnAeKJ4LHtpAi5RjfNGb8PvZBGRFbqOA77M--N5IDZCQYqI3zPbhdrc9knmOINHkMG-49XJ3sgdSYOyB_qBsLVi9aTrBUul4GpnPR0XCjMEj0B1lU07nQEDlKPvoN4BIVzE2uOmGaZVFMktZKCrCfnuY1X8HFoq47ir3Zswm7mt9gBMUxRAIKCOAIE4Uf7A7PG5-UY5g1ysqySiNyL7gpcr-KMRtQD6mJjlLxk79kMJwFfcbcpB9chONv2a5fv4yf8cCTTl2wSakDcCpkMGwNuaMXHDrqDnkN9ataOYY-_GkD-ALFTTuG2mXarfSAz6heED3v1__6pRCiHx7vG1b7Qhcu1gyw8t_ntbAArm4GrzXlJA935Dwcdzt9bH8ioJY664M_6t21GFQNBxuVGP6Di4YERy43JOCcHF3VK24RbGw2dKILntOSSpUNgEdRyuKiwWlUF7pWRaGFL2-rMdOJo10oRy3xy_Ni4moV4Hc3hEoK7YTzYXPyKNGJ1DVHCFvWxVmdxySDrD2ZcD3_Ih1VUggojca6S1Oq7e6XbNC-AKjX7S2wcKDeK0aojYmF8bgBKiAjbLujIar4lxdza6Aot780gPmpI59di4Clm_UKrBDeNhjIm0C2nwZyIUXmwdpWG3io65PJWguXBM19E0vrBHfsOtopgAXRgGfpr_-ERl5inPrySfDtjAtDWV-RlVHP4Z-uAPlzXKDP7CjUslW_tDnSinuAoTR_4AOkONbN3YtQHx3IljUG6RIM7lAQ15EYx736M0Qz3C0litlyiQdDgHyXD6Tvovg0jR20nsZQa8lVGM_SXe0tm3liAG4kiX7bqppSGHpkV6b62h0RC6qmPp-WUjcOAQjoMhbvgE7Q6rLemNpCONuV2YsCqAWOtxYBkZMiqLRIWnSICF-ZUK56nWpSbku5GofOAqOiaMAgFU2LGXsnyiOFV07aP_MfOeeiFaKmVQ7Rl30L6uL6M7at3AycsuPd7U2qne1iK52CQkFHhaLcYQBjn3rbUFEfDs8FS23Exhr_h4yacJE21VYQoDX4AWSDDRErgWXCkQ3WaLvRlbhg-jt4xuPS2gb2iB8XU6kuMH3OD9PQ1sAD/download [following]\n",
      "--2020-03-16 20:43:23--  https://public.boxcloud.com/d/1/b1!2poR3LPwnF3LTr1u8JDWtLYE1He3XGJHsLb2z2KNM0VzCw6Zt639TVKBqtUljA1lnbJ4nPW4Ammns-K3f6YpRhh5fVFho0k5fX91vKvJT6d_L53DqHsbrATP2gBybO_oYTaMczHdLN0wcFcB6G54t2ky7umLPMBewOa7VGoWgVExacLnEUw_oj7iEeR76374VhSVJL0xd0HDEa0r1v8b9h8dwG-3zJt2VwE_lZm2r0-kASV-4fPWeLvBaUMrwW0ByZoyhps7os--YerElklVDLo2pUziW3oIDL0L6ueYsOUBPHCHx5hYZGe-Y_p2o95KnAeKJ4LHtpAi5RjfNGb8PvZBGRFbqOA77M--N5IDZCQYqI3zPbhdrc9knmOINHkMG-49XJ3sgdSYOyB_qBsLVi9aTrBUul4GpnPR0XCjMEj0B1lU07nQEDlKPvoN4BIVzE2uOmGaZVFMktZKCrCfnuY1X8HFoq47ir3Zswm7mt9gBMUxRAIKCOAIE4Uf7A7PG5-UY5g1ysqySiNyL7gpcr-KMRtQD6mJjlLxk79kMJwFfcbcpB9chONv2a5fv4yf8cCTTl2wSakDcCpkMGwNuaMXHDrqDnkN9ataOYY-_GkD-ALFTTuG2mXarfSAz6heED3v1__6pRCiHx7vG1b7Qhcu1gyw8t_ntbAArm4GrzXlJA935Dwcdzt9bH8ioJY664M_6t21GFQNBxuVGP6Di4YERy43JOCcHF3VK24RbGw2dKILntOSSpUNgEdRyuKiwWlUF7pWRaGFL2-rMdOJo10oRy3xy_Ni4moV4Hc3hEoK7YTzYXPyKNGJ1DVHCFvWxVmdxySDrD2ZcD3_Ih1VUggojca6S1Oq7e6XbNC-AKjX7S2wcKDeK0aojYmF8bgBKiAjbLujIar4lxdza6Aot780gPmpI59di4Clm_UKrBDeNhjIm0C2nwZyIUXmwdpWG3io65PJWguXBM19E0vrBHfsOtopgAXRgGfpr_-ERl5inPrySfDtjAtDWV-RlVHP4Z-uAPlzXKDP7CjUslW_tDnSinuAoTR_4AOkONbN3YtQHx3IljUG6RIM7lAQ15EYx736M0Qz3C0litlyiQdDgHyXD6Tvovg0jR20nsZQa8lVGM_SXe0tm3liAG4kiX7bqppSGHpkV6b62h0RC6qmPp-WUjcOAQjoMhbvgE7Q6rLemNpCONuV2YsCqAWOtxYBkZMiqLRIWnSICF-ZUK56nWpSbku5GofOAqOiaMAgFU2LGXsnyiOFV07aP_MfOeeiFaKmVQ7Rl30L6uL6M7at3AycsuPd7U2qne1iK52CQkFHhaLcYQBjn3rbUFEfDs8FS23Exhr_h4yacJE21VYQoDX4AWSDDRErgWXCkQ3WaLvRlbhg-jt4xuPS2gb2iB8XU6kuMH3OD9PQ1sAD/download\n",
      "Resolving public.boxcloud.com (public.boxcloud.com)... 107.152.25.200\n",
      "Connecting to public.boxcloud.com (public.boxcloud.com)|107.152.25.200|:443... connected.\n",
      "HTTP request sent, awaiting response... 200 OK\n",
      "Length: 12714601 (12M) [application/octet-stream]\n",
      "Saving to: ‘wikitext2-sentencized.json’\n",
      "\n",
      "wikitext2-sentenciz 100%[===================>]  12.12M  27.3MB/s    in 0.4s    \n",
      "\n",
      "2020-03-16 20:43:24 (27.3 MB/s) - ‘wikitext2-sentencized.json’ saved [12714601/12714601]\n",
      "\n",
      "--2020-03-16 20:43:25--  https://nyu.box.com/shared/static/looczvct7ssh30x0gwqmvencple8xok9.pt\n",
      "Resolving nyu.box.com (nyu.box.com)... 107.152.29.197\n",
      "Connecting to nyu.box.com (nyu.box.com)|107.152.29.197|:443... connected.\n",
      "HTTP request sent, awaiting response... 301 Moved Permanently\n",
      "Location: /public/static/looczvct7ssh30x0gwqmvencple8xok9.pt [following]\n",
      "--2020-03-16 20:43:26--  https://nyu.box.com/public/static/looczvct7ssh30x0gwqmvencple8xok9.pt\n",
      "Reusing existing connection to nyu.box.com:443.\n",
      "HTTP request sent, awaiting response... 301 Moved Permanently\n",
      "Location: https://nyu.app.box.com/public/static/looczvct7ssh30x0gwqmvencple8xok9.pt [following]\n",
      "--2020-03-16 20:43:26--  https://nyu.app.box.com/public/static/looczvct7ssh30x0gwqmvencple8xok9.pt\n",
      "Resolving nyu.app.box.com (nyu.app.box.com)... 107.152.29.199\n",
      "Connecting to nyu.app.box.com (nyu.app.box.com)|107.152.29.199|:443... connected.\n",
      "HTTP request sent, awaiting response... 302 Found\n",
      "Location: https://public.boxcloud.com/d/1/b1!SaFfYklChWapUtgI-AF6rfNLRgLUD55FoF4oUv1jogKYOKaApC9ZO7GMemg3ZaHFS6TblMde1JrZYfIcZiai7PrILBWKg1Fv-_2KjhxLHkVjEAD7t5WR6dP5jtys2CXi-4WyjoNjkJpAjSoD9Z8ys1WO8ut6xNtbiDXb9K6snh2TCds7WpOqdwTZ5C3Iddsj3X0uE5XNUOr1dxafxUGk1GO4kNqSwCJPATN4AaBe5RGEVmXNr6nniT6zL3ldVX-sM_iLsjEF1KETlLZmia0k6XvEDSviPnsxt53fuhBRfKRGRSuzSO611kUhBJjAq-X5Htfm1XLv2wo-8pdxWN-it3ZNp7znX5s9SlcfHZBztwk4QaGs1fju2Vd90FBfddwFCATHlHWs_xbTflNwUSnTXRuklt6DL9zf8vc7atixkWXO-VUDBe1I8gLpeVfEm6Uf0ZxINfMj9bUovsNdMVg3vzQiqwTbKOoT-uEuNRGmD5wMh0zuPSp2Q0xqi_JrXeIjAiNky40nqqszUAOC2y6Hfgs-IhRLGDfFmxeqM0MC6QcHv1oO1qD8JIjoZI-hyaKoroau_Xa7ueb9y5BVM7BTOq_R0yCTl3gwvsppmLZAPsLRMERiIFO3YRWhR8rwIfPDe3xCrPoG5f5LAn2ZHugpX8OKOWzNb0rDmBTJ3qW1zPMeYfWbVxXmnRMferMW1aEPW76I9Fdaminj2qHkOXwpi6cyt6zzi8dXzilSB-bKIM2g2P02EdTIa1UcNTphNqwNZ-3peVyVYrqgFR1A61dPUMhu2FNw7TYQm43OhHnTgagAvk_Us-qB-DYhcblNCOiTK6jzbBVPMK_d-piyuj8Zl_vGG409GMO47BADduu9dCP-Lzk0kdw5WRa0MPNdfZdD14GWljPmne7lZ72qqE7rqp1J94MS25uJABZoP2dvUJ18R-ZwENwEX7R0dmfWcC3qWz62izh3JpRY6RBF7uu-85vW6L6Sc0jrq243x6f1Okt0s76pYlGaXqKpBHLAp6-vMZw_TFqc0IriLgrmOLprHVhuWMmxm3DBk3TiBTe9xaID7FYm8l0n9nunhIrBYJNVtuwcaalpIb7-fLJHCiF6FqFxFGfIIqo_iIAicYA5dXonoMKKLOI8mBftfzq8eCNvfGYoOrPnzNHC3u5etlOecyVZJytH0Soi4_HkTAfOdRyJBqWgoqLoFQ8tHR02MzOoUlavrRlw_QP-JcWUVcKO5XBgKkVNuQ2iWnJHiQrqmq7abWio1gsl5I32whOFwDPz6fCKkOOiLTxQ8XHWqsD21pSDnhuFn1hAaTgUieXUKbZOImrT-yLi-_vJzAUPngJSr2NZII7OeeLbezZLfyfsS7LDHBv6mGxcPQxoX4PDR6XBI972_X9ytg-oe5LRmIBRnaNStw../download [following]\n",
      "--2020-03-16 20:43:26--  https://public.boxcloud.com/d/1/b1!SaFfYklChWapUtgI-AF6rfNLRgLUD55FoF4oUv1jogKYOKaApC9ZO7GMemg3ZaHFS6TblMde1JrZYfIcZiai7PrILBWKg1Fv-_2KjhxLHkVjEAD7t5WR6dP5jtys2CXi-4WyjoNjkJpAjSoD9Z8ys1WO8ut6xNtbiDXb9K6snh2TCds7WpOqdwTZ5C3Iddsj3X0uE5XNUOr1dxafxUGk1GO4kNqSwCJPATN4AaBe5RGEVmXNr6nniT6zL3ldVX-sM_iLsjEF1KETlLZmia0k6XvEDSviPnsxt53fuhBRfKRGRSuzSO611kUhBJjAq-X5Htfm1XLv2wo-8pdxWN-it3ZNp7znX5s9SlcfHZBztwk4QaGs1fju2Vd90FBfddwFCATHlHWs_xbTflNwUSnTXRuklt6DL9zf8vc7atixkWXO-VUDBe1I8gLpeVfEm6Uf0ZxINfMj9bUovsNdMVg3vzQiqwTbKOoT-uEuNRGmD5wMh0zuPSp2Q0xqi_JrXeIjAiNky40nqqszUAOC2y6Hfgs-IhRLGDfFmxeqM0MC6QcHv1oO1qD8JIjoZI-hyaKoroau_Xa7ueb9y5BVM7BTOq_R0yCTl3gwvsppmLZAPsLRMERiIFO3YRWhR8rwIfPDe3xCrPoG5f5LAn2ZHugpX8OKOWzNb0rDmBTJ3qW1zPMeYfWbVxXmnRMferMW1aEPW76I9Fdaminj2qHkOXwpi6cyt6zzi8dXzilSB-bKIM2g2P02EdTIa1UcNTphNqwNZ-3peVyVYrqgFR1A61dPUMhu2FNw7TYQm43OhHnTgagAvk_Us-qB-DYhcblNCOiTK6jzbBVPMK_d-piyuj8Zl_vGG409GMO47BADduu9dCP-Lzk0kdw5WRa0MPNdfZdD14GWljPmne7lZ72qqE7rqp1J94MS25uJABZoP2dvUJ18R-ZwENwEX7R0dmfWcC3qWz62izh3JpRY6RBF7uu-85vW6L6Sc0jrq243x6f1Okt0s76pYlGaXqKpBHLAp6-vMZw_TFqc0IriLgrmOLprHVhuWMmxm3DBk3TiBTe9xaID7FYm8l0n9nunhIrBYJNVtuwcaalpIb7-fLJHCiF6FqFxFGfIIqo_iIAicYA5dXonoMKKLOI8mBftfzq8eCNvfGYoOrPnzNHC3u5etlOecyVZJytH0Soi4_HkTAfOdRyJBqWgoqLoFQ8tHR02MzOoUlavrRlw_QP-JcWUVcKO5XBgKkVNuQ2iWnJHiQrqmq7abWio1gsl5I32whOFwDPz6fCKkOOiLTxQ8XHWqsD21pSDnhuFn1hAaTgUieXUKbZOImrT-yLi-_vJzAUPngJSr2NZII7OeeLbezZLfyfsS7LDHBv6mGxcPQxoX4PDR6XBI972_X9ytg-oe5LRmIBRnaNStw../download\n",
      "Resolving public.boxcloud.com (public.boxcloud.com)... 107.152.25.200\n",
      "Connecting to public.boxcloud.com (public.boxcloud.com)|107.152.25.200|:443... connected.\n",
      "HTTP request sent, awaiting response... 200 OK\n",
      "Length: 63894321 (61M) [application/octet-stream]\n",
      "Saving to: ‘personachat_ffnn_lm.pt’\n",
      "\n",
      "personachat_ffnn_lm 100%[===================>]  60.93M  18.8MB/s    in 3.4s    \n",
      "\n",
      "2020-03-16 20:43:30 (18.0 MB/s) - ‘personachat_ffnn_lm.pt’ saved [63894321/63894321]\n",
      "\n",
      "--2020-03-16 20:43:31--  https://nyu.box.com/shared/static/3jl9erctnvbefnczgmetkdil0xwpcxzb.pt\n",
      "Resolving nyu.box.com (nyu.box.com)... 107.152.29.197\n",
      "Connecting to nyu.box.com (nyu.box.com)|107.152.29.197|:443... connected.\n",
      "HTTP request sent, awaiting response... 301 Moved Permanently\n",
      "Location: /public/static/3jl9erctnvbefnczgmetkdil0xwpcxzb.pt [following]\n",
      "--2020-03-16 20:43:32--  https://nyu.box.com/public/static/3jl9erctnvbefnczgmetkdil0xwpcxzb.pt\n",
      "Reusing existing connection to nyu.box.com:443.\n",
      "HTTP request sent, awaiting response... 301 Moved Permanently\n",
      "Location: https://nyu.app.box.com/public/static/3jl9erctnvbefnczgmetkdil0xwpcxzb.pt [following]\n",
      "--2020-03-16 20:43:32--  https://nyu.app.box.com/public/static/3jl9erctnvbefnczgmetkdil0xwpcxzb.pt\n",
      "Resolving nyu.app.box.com (nyu.app.box.com)... 107.152.29.199\n",
      "Connecting to nyu.app.box.com (nyu.app.box.com)|107.152.29.199|:443... connected.\n",
      "HTTP request sent, awaiting response... 302 Found\n",
      "Location: https://public.boxcloud.com/d/1/b1!XvT4DJYSNcqbHmfqCLouShLmSynqDlT0kW09zXqsUSI9Xr3kwBlrXXdhn97njjSR1GzHjVDERthaLL4_xjX95PQIVjt8RsQpNnEv58KxKVBMdbDv-tNwOYj37EQd-1_OBFmO6wS74Pt7yb2njtfbUtQIS7BpfhR3Facd5DrnUrnM5rapPBaoE7GFcmvi-XBjG6CtrDwcbQRGum2j37W93jx61e9q2D8Bqnx5BqYMSMf3qhjX5GWYhkxDHYBurqvRgmWwx_tFO5uAZNrxXUDcS_mXe50-QYr_5IGFqqDNDeu_AgC_hY682ly0GdlEEusRN6LASZ5ZNEw6kqWMw031b4JZqT5czv-rTMnsR6mjo3vv0OGsRe65_jLOZ7OoqCJB9gfD6w3Zre30KLG5rj9KXEYpyM3oAJZ_SNaxPjgYgymmGaHKUMPBJroMKGFv0XkgiuCYgQi37qIUpYymytRR9ObI8GLZi6ElcsGzqiQY3zCmlbNgISc_id_WVrM2WrPDYh_Wv4c_5svDpUFuEDt1pW1AHAFiCYqhZteuO45g43F7zOqSHjJwp1naF6dQxNY_69EodI7apIJng9QrJei55-Q1flATZmqFCziV0OPVxyoTSCYzxM_dLOw2a82BaFtbL_Yp5NnG8t-DCnPugOQzZL6zKBz2ctuEbDI4j1v0c0sAz8-Jqr06Zb0O_tCPV6mpX8fNTn4-Mu1x_LYGTFHJyvfVARuJAzJdloEF7xYSNpAKcOh2-LUG4r6MGeAiYvEjOSAsGqmF0LHWortD185glm-pjdT7irzRmd1Dc4OEkpvu9C9PZxOGX9z00hDg6Chv3OVX6r4OcSvbHB2wNimophW0Tchwqb9fgDXI_2LVhWQWCZ6aqbEGjkn3I9rI_8lqG-Kb_c4OA9SzLI8v822L1XXsSuCFCqSS3UMMpxQ-3kUw_7Mb3XueOshimNygKjyTECS9TvvtxgDDoaI31rzXi2g0dBTfG3BYKc73UmznP2k7Xu3bs0euBjxpYsxTgz-_PDcTqNfS_K_-8Gz_1DQRNXaR4uQ4xjzaXvJ5VD0nk0Ph0jKIPvn-rfT_5WkXWhJ0SmDfdz3rElCyIlxCRXF6uH-ry7OTXacTyRdTVVdHhNh1-U7xSW23M7NLFoI7L1VcoS2gZbm-AXLhqI6El29o9B3xahjibPriqjwwjWUz6LuBQoMNArw0mQs4SGXYK365RPaDDzrBmWsi8MGt1m8HRch3dVCCwIZBEBp4DvKZjRbNg9VJy_V8P7TejRRJAHrHkGNGMCYUqzFwEPPmpxT2iEf1Lml-pT08FGXbPrzgw-rpupKSxpbw85JXEAZkJGuLB-gOqH1V_ZNd-gPuKorlgSZS36O8mgKlIxLNTc4QuzK3Apr261IwGPjsKwztVCZhQ2E./download [following]\n",
      "--2020-03-16 20:43:32--  https://public.boxcloud.com/d/1/b1!XvT4DJYSNcqbHmfqCLouShLmSynqDlT0kW09zXqsUSI9Xr3kwBlrXXdhn97njjSR1GzHjVDERthaLL4_xjX95PQIVjt8RsQpNnEv58KxKVBMdbDv-tNwOYj37EQd-1_OBFmO6wS74Pt7yb2njtfbUtQIS7BpfhR3Facd5DrnUrnM5rapPBaoE7GFcmvi-XBjG6CtrDwcbQRGum2j37W93jx61e9q2D8Bqnx5BqYMSMf3qhjX5GWYhkxDHYBurqvRgmWwx_tFO5uAZNrxXUDcS_mXe50-QYr_5IGFqqDNDeu_AgC_hY682ly0GdlEEusRN6LASZ5ZNEw6kqWMw031b4JZqT5czv-rTMnsR6mjo3vv0OGsRe65_jLOZ7OoqCJB9gfD6w3Zre30KLG5rj9KXEYpyM3oAJZ_SNaxPjgYgymmGaHKUMPBJroMKGFv0XkgiuCYgQi37qIUpYymytRR9ObI8GLZi6ElcsGzqiQY3zCmlbNgISc_id_WVrM2WrPDYh_Wv4c_5svDpUFuEDt1pW1AHAFiCYqhZteuO45g43F7zOqSHjJwp1naF6dQxNY_69EodI7apIJng9QrJei55-Q1flATZmqFCziV0OPVxyoTSCYzxM_dLOw2a82BaFtbL_Yp5NnG8t-DCnPugOQzZL6zKBz2ctuEbDI4j1v0c0sAz8-Jqr06Zb0O_tCPV6mpX8fNTn4-Mu1x_LYGTFHJyvfVARuJAzJdloEF7xYSNpAKcOh2-LUG4r6MGeAiYvEjOSAsGqmF0LHWortD185glm-pjdT7irzRmd1Dc4OEkpvu9C9PZxOGX9z00hDg6Chv3OVX6r4OcSvbHB2wNimophW0Tchwqb9fgDXI_2LVhWQWCZ6aqbEGjkn3I9rI_8lqG-Kb_c4OA9SzLI8v822L1XXsSuCFCqSS3UMMpxQ-3kUw_7Mb3XueOshimNygKjyTECS9TvvtxgDDoaI31rzXi2g0dBTfG3BYKc73UmznP2k7Xu3bs0euBjxpYsxTgz-_PDcTqNfS_K_-8Gz_1DQRNXaR4uQ4xjzaXvJ5VD0nk0Ph0jKIPvn-rfT_5WkXWhJ0SmDfdz3rElCyIlxCRXF6uH-ry7OTXacTyRdTVVdHhNh1-U7xSW23M7NLFoI7L1VcoS2gZbm-AXLhqI6El29o9B3xahjibPriqjwwjWUz6LuBQoMNArw0mQs4SGXYK365RPaDDzrBmWsi8MGt1m8HRch3dVCCwIZBEBp4DvKZjRbNg9VJy_V8P7TejRRJAHrHkGNGMCYUqzFwEPPmpxT2iEf1Lml-pT08FGXbPrzgw-rpupKSxpbw85JXEAZkJGuLB-gOqH1V_ZNd-gPuKorlgSZS36O8mgKlIxLNTc4QuzK3Apr261IwGPjsKwztVCZhQ2E./download\n",
      "Resolving public.boxcloud.com (public.boxcloud.com)... 107.152.25.200\n",
      "Connecting to public.boxcloud.com (public.boxcloud.com)|107.152.25.200|:443... connected.\n",
      "HTTP request sent, awaiting response... 200 OK\n",
      "Length: 67576905 (64M) [application/octet-stream]\n",
      "Saving to: ‘personachat_rnn_lm.pt’\n",
      "\n",
      "personachat_rnn_lm. 100%[===================>]  64.45M  16.2MB/s    in 3.9s    \n",
      "\n",
      "2020-03-16 20:43:38 (16.5 MB/s) - ‘personachat_rnn_lm.pt’ saved [67576905/67576905]\n",
      "\n"
     ]
    }
   ],
   "source": [
    "# download pretrained models and data\n",
    "### DOWNLOADING THE FILES\n",
    "import os\n",
    "\n",
    "### persona chat dataset\n",
    "if not os.path.exists('personachat_all_sentences_train.jsonl'):\n",
    "    !wget \"https://nyu.box.com/shared/static/q4nvswb0szelivhgyx87vd1056ttqfyi.jsonl\" -O 'personachat_all_sentences_train.jsonl'\n",
    "if not os.path.exists('personachat_all_sentences_valid.jsonl'):\n",
    "    !wget \"https://nyu.box.com/shared/static/8krcizo8sms1m0ppy7uiwfcx4a3l5nsq.jsonl\" -O 'personachat_all_sentences_valid.jsonl'\n",
    "if not os.path.exists('personachat_all_sentences_test.jsonl'):\n",
    "    !wget \"https://nyu.box.com/shared/static/im7we9k2gcf8kslqnfamsimicgosuw9y.jsonl\" -O 'personachat_all_sentences_test.jsonl'\n",
    "\n",
    "## wikitext-2 dataset\n",
    "if not os.path.exists('wikitext2-sentencized.json'):\n",
    "    !wget \"https://nyu.box.com/shared/static/9kb7l7ci30hb6uahhbssjlq0kctr5ii4.json\" -O 'wikitext2-sentencized.json'\n",
    "\n",
    "### pretrained ffnn model\n",
    "if not os.path.exists('personachat_ffnn_lm.pt'):\n",
    "    !wget \"https://nyu.box.com/shared/static/looczvct7ssh30x0gwqmvencple8xok9.pt\" -O 'personachat_ffnn_lm.pt'\n",
    "\n",
    "### pretrained rnn model\n",
    "if not os.path.exists('personachat_rnn_lm.pt'):\n",
    "    !wget \"https://nyu.box.com/shared/static/3jl9erctnvbefnczgmetkdil0xwpcxzb.pt\" -O 'personachat_rnn_lm.pt'"
   ]
  },
  {
   "cell_type": "markdown",
   "metadata": {
    "colab_type": "text",
    "id": "G0PkAzAkKHZw"
   },
   "source": [
    "## N-gram modeling as classification\n",
    "\n",
    "In the previous n-gram language models lab, the probability of a word given a history ('prefix') was computed using n-gram **counts**.\n",
    "\n",
    "In this lab, our goal will be the same: modeling the probability of variable length sequences, $$p(x_1,\\ldots,x_T)=\\prod_{t=1}^T p(x_t|x_{<t}),$$\n",
    "\n",
    "by assuming that each word $x_t$ only depends on the preceding $n-1$ words, $$p(x_1,\\ldots,x_T)=\\prod_{t=1}^T p(x_t|x_{t-n+1},\\ldots,x_{t-1}).$$\n",
    "\n",
    "\n",
    "However, _instead of counts_, we will now use a **neural network** to **classify** each history, where each class is the next word.\n",
    "\n",
    "<img src=\"https://github.com/bamtak/ammi-nlp/blob/master/course%202/img/fflm.png?raw=1\" alt=\"Drawing\" style=\"width: 35%;\"/>\n",
    "\n",
    "[Diagram: modified from the [NLP Lecture Note](https://github.com/nyu-dl/NLP_DL_Lecture_Note/blob/master/lecture_note.pdf) by Kyunghyun Cho]"
   ]
  },
  {
   "cell_type": "markdown",
   "metadata": {
    "colab_type": "text",
    "id": "_rHGuy-zbj-R"
   },
   "source": [
    "## Modeling chat utterances\n",
    "\n",
    "We will build a **feed-forward neural n-gram model** to model chat utterances.\n",
    "\n",
    "### 1. Prepare the data\n",
    "\n",
    "To load and preprocess the data, we'll use utility functions from `data.py`."
   ]
  },
  {
   "cell_type": "code",
   "execution_count": 0,
   "metadata": {
    "colab": {},
    "colab_type": "code",
    "id": "TVEmLrby6o74"
   },
   "outputs": [],
   "source": [
    "import os\n",
    "import jsonlines\n",
    "import torch\n",
    "\n",
    "from tqdm import tqdm\n",
    "from torch.utils.data import Dataset\n",
    "\n",
    "\n",
    "class Dictionary(object):\n",
    "    def __init__(\n",
    "        self, datasets, include_valid=False, special_tokens=('<bos>', '<eos>', '<pad>', '<unk>')\n",
    "    ):\n",
    "        self.tokens = []\n",
    "        self.ids = {}\n",
    "\n",
    "        for token in special_tokens:\n",
    "            self.add_token(token)\n",
    "\n",
    "        for line in tqdm(datasets['train']):\n",
    "            for w in line:\n",
    "                self.add_token(w)\n",
    "\n",
    "        if include_valid is True:\n",
    "            for line in tqdm(datasets['valid']):\n",
    "                for w in line:\n",
    "                    self.add_token(w)\n",
    "\n",
    "    def add_token(self, w):\n",
    "        if w not in self.tokens:\n",
    "            self.tokens.append(w)\n",
    "            _w_id = len(self.tokens) - 1\n",
    "            self.ids[w] = _w_id\n",
    "\n",
    "    def get_id(self, w):\n",
    "        if w not in self.ids:\n",
    "            return self.ids['<unk>']\n",
    "        return self.ids[w]\n",
    "\n",
    "    def get_token(self, idx):\n",
    "        return self.tokens[idx]\n",
    "\n",
    "    def decode_idx_seq(self, l):\n",
    "        return [self.tokens[i] for i in l]\n",
    "\n",
    "    def encode_token_seq(self, l):\n",
    "        return [self.ids[i] if i in self.ids else self.ids['<unk>'] for i in l]\n",
    "\n",
    "    def __len__(self):\n",
    "        return len(self.tokens)\n",
    "\n",
    "\n",
    "class NgramDataset(Dataset):\n",
    "    def __init__(self, ngram_dataset):\n",
    "        super().__init__()\n",
    "        self.ngrams = [torch.tensor(i, dtype=torch.long) for i in ngram_dataset]\n",
    "\n",
    "    def __getitem__(self, i):\n",
    "        sample = self.ngrams[i]\n",
    "        return sample\n",
    "\n",
    "    def __len__(self):\n",
    "        return len(self.ngrams)\n",
    "\n",
    "def load_personachat(basedir):\n",
    "    datasets_fnames = {\n",
    "        'train': os.path.join(basedir, 'personachat_all_sentences_train.jsonl'),\n",
    "        'valid': os.path.join(basedir, 'personachat_all_sentences_valid.jsonl'),\n",
    "        'test': os.path.join(basedir, 'personachat_all_sentences_test.jsonl'),\n",
    "    }\n",
    "    datasets_text = {\n",
    "        'train': [],\n",
    "        'valid': [],\n",
    "        'test': [],\n",
    "    }\n",
    "    for split, fname in datasets_fnames.items():\n",
    "        for token_dict in jsonlines.open(fname):\n",
    "            datasets_text[split].append(token_dict['tokens'])\n",
    "    return datasets_text\n",
    "\n",
    "\n",
    "# =========== N-gram =========\n",
    "def batchify(list_minibatch):\n",
    "    inp_list = [i[:-1] for i in list_minibatch]\n",
    "    tar_list = [i[-1] for i in list_minibatch]\n",
    "\n",
    "    inp_tensor = torch.stack(inp_list, dim=0)\n",
    "    tar_tensor = torch.stack(tar_list, dim=0)\n",
    "\n",
    "    return inp_tensor, tar_tensor\n",
    "\n",
    "\n",
    "def tokenize_dataset(datasets, dictionary, ngram_order=2):\n",
    "    tokenized_datasets = {}\n",
    "    for split, dataset in datasets.items():\n",
    "        _current_dictified = []\n",
    "        for l in dataset:\n",
    "            l = ['<bos>'] * (ngram_order - 1) + l + ['<eos>']\n",
    "            encoded_l = dictionary.encode_token_seq(l)\n",
    "            _current_dictified.append(encoded_l)\n",
    "        tokenized_datasets[split] = _current_dictified\n",
    "    return tokenized_datasets\n",
    "\n",
    "\n",
    "def slice_into_ngrams(tokenized_dataset, ngram_order=5):\n",
    "    \"\"\"This function slices the input sequence into ngrams, e.g:\n",
    "            [0,1,2,3,4,5] with `ngram_order=2` will be sliced into bigrams:\n",
    "            [0,1], [1,2], [2,3], [3,4], [4,5].\"\"\"\n",
    "    sliced_datasets = {}\n",
    "    for split, dataset in tokenized_dataset.items():\n",
    "        _list_of_sliced_ngrams = []\n",
    "        for seq in dataset:\n",
    "            ngrams = [seq[i:i+ngram_order] for i in range(len(seq)-ngram_order+1)]\n",
    "            _list_of_sliced_ngrams.extend(ngrams)\n",
    "        sliced_datasets[split] = _list_of_sliced_ngrams\n",
    "    return sliced_datasets\n",
    "\n",
    "\n",
    "# ======== RNN ===========\n",
    "class TensoredDataset(Dataset):\n",
    "    def __init__(self, list_of_lists_of_tokens, pad_token_id):\n",
    "        self.input_tensors = []\n",
    "        self.target_tensors = []\n",
    "        self.pad = pad_token_id\n",
    "\n",
    "        for sample in list_of_lists_of_tokens:\n",
    "            self.input_tensors.append(\n",
    "                torch.tensor([sample[:-1]], dtype=torch.long)\n",
    "            )\n",
    "            self.target_tensors.append(\n",
    "                torch.tensor([sample[1:]], dtype=torch.long)\n",
    "            )\n",
    "\n",
    "    def __len__(self):\n",
    "        return len(self.input_tensors)\n",
    "\n",
    "    def __getitem__(self, idx):\n",
    "        return self.input_tensors[idx], self.target_tensors[idx]\n",
    "\n",
    "    def pad_collate_fn(self, batch):\n",
    "        input_list = [s[0] for s in batch]\n",
    "        target_list = [s[1] for s in batch]\n",
    "        input_tensor = self.pad_list_of_tensors(input_list)\n",
    "        target_tensor = self.pad_list_of_tensors(target_list)\n",
    "        return input_tensor, target_tensor\n",
    "\n",
    "    def pad_list_of_tensors(self, list_of_tensors):\n",
    "        max_length = max([t.size(-1) for t in list_of_tensors])\n",
    "        padded_list = []\n",
    "        for t in list_of_tensors:\n",
    "            padded_tensor = torch.cat(\n",
    "                [t, torch.tensor([[self.pad] * (max_length - t.size(-1))], dtype=torch.long)],\n",
    "                dim=-1\n",
    "            )\n",
    "            padded_list.append(padded_tensor)\n",
    "\n",
    "        padded_tensor = torch.cat(padded_list, dim=0)\n",
    "        return padded_tensor\n"
   ]
  },
  {
   "cell_type": "code",
   "execution_count": 0,
   "metadata": {
    "colab": {},
    "colab_type": "code",
    "id": "TsLd-pAlbj-Y"
   },
   "outputs": [],
   "source": [
    "# import data as data_utils"
   ]
  },
  {
   "cell_type": "code",
   "execution_count": 0,
   "metadata": {
    "colab": {},
    "colab_type": "code",
    "id": "jceQ8f_s7Buw"
   },
   "outputs": [],
   "source": [
    "datasets = load_personachat('./')"
   ]
  },
  {
   "cell_type": "code",
   "execution_count": 7,
   "metadata": {
    "colab": {
     "base_uri": "https://localhost:8080/",
     "height": 51
    },
    "colab_type": "code",
    "id": "UYIBNnOwO9wa",
    "outputId": "e7ad719c-c105-4a81-a982-283600b2510e"
   },
   "outputs": [
    {
     "name": "stderr",
     "output_type": "stream",
     "text": [
      "100%|██████████| 133176/133176 [00:19<00:00, 7007.49it/s]\n",
      "100%|██████████| 16181/16181 [00:02<00:00, 5461.10it/s]\n"
     ]
    }
   ],
   "source": [
    "datasets = load_personachat('./')\n",
    "dictionary = Dictionary(datasets, include_valid=True)"
   ]
  },
  {
   "cell_type": "markdown",
   "metadata": {
    "colab_type": "text",
    "id": "wtympklE4b2f"
   },
   "source": [
    "Let's look at an example from the dataset (note that in addition to `train` we also have `valid`, `test` splits):"
   ]
  },
  {
   "cell_type": "code",
   "execution_count": 8,
   "metadata": {
    "colab": {
     "base_uri": "https://localhost:8080/",
     "height": 136
    },
    "colab_type": "code",
    "id": "6ImdOqZf4b2h",
    "outputId": "8c169022-dd54-4096-b532-9868793a309e"
   },
   "outputs": [
    {
     "name": "stdout",
     "output_type": "stream",
     "text": [
      "Dataset size 133176 (train), 16181 (valid), 15608 (test).\n",
      "\n",
      "i am doing great except for the allergies .\n",
      "\n",
      " word indices - [4, 5, 6, 7, 8, 9, 10, 11, 12]\n",
      "\n",
      " words - ['i', 'am', 'doing', 'great', 'except', 'for', 'the', 'allergies', '.']\n"
     ]
    }
   ],
   "source": [
    "index = 0\n",
    "split = 'train'\n",
    "encoded = dictionary.encode_token_seq(datasets[split][index])\n",
    "decoded = dictionary.decode_idx_seq(encoded)\n",
    "\n",
    "print(\"Dataset size %d (train), %d (valid), %d (test).\\n\" %\n",
    "     (len(datasets['train']), \n",
    "      len(datasets['valid']), \n",
    "      len(datasets['test'])))\n",
    "print(' '.join(datasets[split][index]))\n",
    "print(f'\\n word indices - {encoded}')\n",
    "print(f'\\n words - {decoded}')"
   ]
  },
  {
   "cell_type": "markdown",
   "metadata": {
    "colab_type": "text",
    "id": "pRSCcMLs4b2l"
   },
   "source": [
    "Now we add `<bos>`, `<eos>`, and turn each **sequence** into **n-grams**:"
   ]
  },
  {
   "cell_type": "code",
   "execution_count": 9,
   "metadata": {
    "colab": {
     "base_uri": "https://localhost:8080/",
     "height": 357
    },
    "colab_type": "code",
    "id": "T72JnKqz4b2m",
    "outputId": "63de6abb-14f3-4c5d-a00d-6c833f899303"
   },
   "outputs": [
    {
     "name": "stdout",
     "output_type": "stream",
     "text": [
      "\n",
      " 0 - ['<bos>', '<bos>', '<bos>', '<bos>', 'i']\n",
      "\n",
      " 1 - ['<bos>', '<bos>', '<bos>', 'i', 'am']\n",
      "\n",
      " 2 - ['<bos>', '<bos>', 'i', 'am', 'doing']\n",
      "\n",
      " 3 - ['<bos>', 'i', 'am', 'doing', 'great']\n",
      "\n",
      " 4 - ['i', 'am', 'doing', 'great', 'except']\n",
      "\n",
      " 5 - ['am', 'doing', 'great', 'except', 'for']\n",
      "\n",
      " 6 - ['doing', 'great', 'except', 'for', 'the']\n",
      "\n",
      " 7 - ['great', 'except', 'for', 'the', 'allergies']\n",
      "\n",
      " 8 - ['except', 'for', 'the', 'allergies', '.']\n",
      "\n",
      " 9 - ['for', 'the', 'allergies', '.', '<eos>']\n"
     ]
    }
   ],
   "source": [
    "ngram_order = 5\n",
    "tokenized_datasets = tokenize_dataset(datasets, dictionary, ngram_order)\n",
    "ngram_datasets = slice_into_ngrams(tokenized_datasets, ngram_order)\n",
    "\n",
    "for i in range(10):\n",
    "    decoded = dictionary.decode_idx_seq(ngram_datasets[split][index+i])\n",
    "    print(f'\\n {i} - {decoded}')"
   ]
  },
  {
   "cell_type": "markdown",
   "metadata": {
    "colab_type": "text",
    "id": "_C2G1_PD4b2p"
   },
   "source": [
    "Finally, we create a **Pytorch** `Dataset` and `DataLoader` that can be used for training a neural network."
   ]
  },
  {
   "cell_type": "code",
   "execution_count": 0,
   "metadata": {
    "colab": {},
    "colab_type": "code",
    "id": "401zpVGvNcmR"
   },
   "outputs": [],
   "source": [
    "from torch.utils.data import DataLoader\n",
    "\n",
    "datasets = {}\n",
    "dataloaders = {}\n",
    "for split, dataset in ngram_datasets.items():\n",
    "    dataset_ = NgramDataset(dataset)\n",
    "    datasets[split] = dataset_\n",
    "    dataloaders[split] = DataLoader(\n",
    "        dataset_, \n",
    "        batch_size=2048, \n",
    "        shuffle=(split == 'train'), \n",
    "        collate_fn=batchify\n",
    "    )"
   ]
  },
  {
   "cell_type": "markdown",
   "metadata": {
    "colab_type": "text",
    "id": "E2_hsHAX4b2v"
   },
   "source": [
    "### 2. Defining the model\n",
    "\n",
    "\n",
    "#### How do we represent the input $x_t$? \n",
    "\n",
    "Each $x_t$ is an **integer** (token id), and we transform it into a **vector** $f_{\\text{embed}}(x_t)\\in\\mathbb{R}^d$ using an `Embedding` layer."
   ]
  },
  {
   "cell_type": "markdown",
   "metadata": {
    "colab_type": "text",
    "id": "jlUBUtnhbj-f"
   },
   "source": [
    "An embedding layer serves as a differentiable look-up table. Given an integer token id, it returns a vector representation which we call an **embedding**."
   ]
  },
  {
   "cell_type": "code",
   "execution_count": 0,
   "metadata": {
    "colab": {},
    "colab_type": "code",
    "id": "F7wBvXaYbj-g"
   },
   "outputs": [],
   "source": [
    "import torch\n",
    "from torch.nn import Embedding\n",
    "# Embedding??"
   ]
  },
  {
   "cell_type": "code",
   "execution_count": 0,
   "metadata": {
    "colab": {},
    "colab_type": "code",
    "id": "hPUY40tXbj-m"
   },
   "outputs": [],
   "source": [
    "lookup = Embedding(\n",
    "    num_embeddings=len(dictionary), \n",
    "    embedding_dim=16, \n",
    "    padding_idx=dictionary.get_id('<pad>')\n",
    ")"
   ]
  },
  {
   "cell_type": "code",
   "execution_count": 13,
   "metadata": {
    "colab": {
     "base_uri": "https://localhost:8080/",
     "height": 34
    },
    "colab_type": "code",
    "id": "eSDJy98Jbj-o",
    "outputId": "8d2eb8f4-43d8-41ba-9468-2482174cfee9"
   },
   "outputs": [
    {
     "data": {
      "text/plain": [
       "torch.Size([20089, 16])"
      ]
     },
     "execution_count": 13,
     "metadata": {
      "tags": []
     },
     "output_type": "execute_result"
    }
   ],
   "source": [
    "lookup.weight.size()"
   ]
  },
  {
   "cell_type": "code",
   "execution_count": 14,
   "metadata": {
    "colab": {
     "base_uri": "https://localhost:8080/",
     "height": 102
    },
    "colab_type": "code",
    "id": "3WMCuASKbj-s",
    "outputId": "7065e27c-5409-43d8-d3c7-58d3553a2cd5"
   },
   "outputs": [
    {
     "name": "stdout",
     "output_type": "stream",
     "text": [
      "token ids: [[179, 373]]\n",
      "tokens embedding size: torch.Size([1, 2, 16])\n",
      "embedding for 'hello' (179):\n"
     ]
    },
    {
     "data": {
      "text/plain": [
       "tensor([-1.9406, -0.7093, -0.2211, -0.0565, -1.2262, -0.3823,  0.3622, -2.3617,\n",
       "        -1.4190,  0.8727,  0.6503,  0.0087, -0.3483, -0.3313,  0.0999,  1.4652])"
      ]
     },
     "execution_count": 14,
     "metadata": {
      "tags": []
     },
     "output_type": "execute_result"
    }
   ],
   "source": [
    "input_ = dictionary.encode_token_seq(['hello', 'world'])\n",
    "print(f'token ids: {[input_]}')\n",
    "\n",
    "input_embedded = lookup(torch.tensor([input_], dtype=torch.long))\n",
    "print(f'tokens embedding size: {input_embedded.size()}')\n",
    "\n",
    "print(\"embedding for 'hello' (179):\")\n",
    "input_embedded[0, 0].data"
   ]
  },
  {
   "cell_type": "markdown",
   "metadata": {
    "colab_type": "text",
    "id": "5Ck-7MXj4b28"
   },
   "source": [
    "### Defining the neural network\n",
    "\n",
    "There are three components:\n",
    "1. `Embedding` $$\\large f_{embed}:\\text{vocab}\\rightarrow \\mathbb{R}^d$$\n",
    "2. Hidden layer $$\\large f_{hidden}: \\mathbb{R}^{nd}\\rightarrow \\mathbb{R}^h$$\n",
    "3. Projection $$\\large f_{project}: \\mathbb{R}^{h}\\rightarrow \\mathbb{R}^{|vocab|}$$\n",
    "\n",
    "The conditional distribution is then: $$\\large p(x_t|x_{t-1},\\ldots,x_{t-n-1})=\\text{softmax}(f_{project}(f_{hidden}(f_{embed}(x_{t-1},\\ldots,x_{t-n-1}))).$$\n",
    "\n",
    "\n",
    "We implement the hidden layer and projection with Pytorch `nn.Linear` layers:"
   ]
  },
  {
   "cell_type": "code",
   "execution_count": 0,
   "metadata": {
    "colab": {},
    "colab_type": "code",
    "id": "dvlP70FiOrJ3"
   },
   "outputs": [],
   "source": [
    "import torch\n",
    "import torch.nn as nn\n",
    "\n",
    "class NeuralNgramLM(nn.Module):\n",
    "    def __init__(self, options):\n",
    "        super().__init__()\n",
    "        self.lookup = nn.Embedding(\n",
    "            num_embeddings=options['num_embeddings'], \n",
    "            embedding_dim=options['embedding_dim']\n",
    "        )\n",
    "        self.hidden_layer = nn.Linear(\n",
    "            options['input_size'], \n",
    "            options['hidden_size'], \n",
    "            bias=True\n",
    "        )\n",
    "        self.projection = nn.Linear(\n",
    "            options['hidden_size'], \n",
    "            options['num_embeddings']\n",
    "        )\n",
    "\n",
    "    def forward(self, inp):\n",
    "        embedded = self.lookup(inp)\n",
    "        embedded_timeflat = embedded.view(embedded.size(0), -1)\n",
    "        hidden_out = self.hidden_layer(embedded_timeflat)\n",
    "        hidden_out = torch.tanh(hidden_out)\n",
    "        logits = self.projection(hidden_out)\n",
    "        return logits"
   ]
  },
  {
   "cell_type": "markdown",
   "metadata": {
    "colab_type": "text",
    "id": "8naH4u6b4b3A"
   },
   "source": [
    "### 3. Train the model\n",
    "\n",
    "#### Initialize the model, criterion (loss), and optimizer"
   ]
  },
  {
   "cell_type": "code",
   "execution_count": 0,
   "metadata": {
    "colab": {},
    "colab_type": "code",
    "id": "VfjWvd6jTDjh"
   },
   "outputs": [],
   "source": [
    "import os\n",
    "import torch\n",
    "import torch.nn as nn\n",
    "import torch.optim as optim\n",
    "\n",
    "load_pretrained = True\n",
    "\n",
    "num_gpus = torch.cuda.device_count()\n",
    "if num_gpus > 0:\n",
    "    current_device = 'cuda'\n",
    "else:\n",
    "    current_device = 'cpu'\n",
    "\n",
    "if load_pretrained:\n",
    "    if not os.path.exists('personachat_ffnn_lm.pt'):\n",
    "        raise EOFError('No model downloaded!')\n",
    "    model_dict = torch.load(\n",
    "        'personachat_ffnn_lm.pt',\n",
    "        map_location=torch.device(current_device)\n",
    "    )\n",
    "    \n",
    "    options = model_dict['options']\n",
    "    model = NeuralNgramLM(options).to(current_device)\n",
    "    model.load_state_dict(\n",
    "        model_dict['model_dict']\n",
    "    )\n",
    "    \n",
    "else:\n",
    "    embedding_size = 256\n",
    "    ngram_order = 4\n",
    "    input_size = embedding_size * ngram_order\n",
    "    hidden_size = 512\n",
    "\n",
    "    options = {\n",
    "        'num_embeddings': len(dictionary),\n",
    "        'embedding_dim': embedding_size,\n",
    "        'input_size': input_size,\n",
    "        'hidden_size': hidden_size,\n",
    "    }\n",
    "    model = NeuralNgramLM(options).to(current_device)\n",
    "\n",
    "criterion = nn.CrossEntropyLoss(\n",
    "    ignore_index=dictionary.get_id('<pad>'), \n",
    "    reduction='sum'\n",
    ")\n",
    "\n",
    "model_parameters = [p for p in model.parameters() if p.requires_grad]\n",
    "optimizer = optim.SGD(model_parameters, lr=0.01, momentum=0.99)"
   ]
  },
  {
   "cell_type": "markdown",
   "metadata": {
    "colab_type": "text",
    "id": "IT9XNvrH4b3E"
   },
   "source": [
    "#### Training Loop"
   ]
  },
  {
   "cell_type": "code",
   "execution_count": 0,
   "metadata": {
    "colab": {},
    "colab_type": "code",
    "id": "dHeMz2Q2ULYQ"
   },
   "outputs": [],
   "source": [
    "plot_cache = []\n",
    "\n",
    "if not load_pretrained:\n",
    "    for epoch_number in range(10):\n",
    "        avg_loss = -1\n",
    "\n",
    "        # -- Training\n",
    "        model.train()\n",
    "\n",
    "        train_loss_cache = 0\n",
    "        train_non_pad_tokens_cache = 0\n",
    "\n",
    "        # == Iterate through batches from the dataset.\n",
    "        for i, (inp, target) in enumerate(dataloaders['train']):\n",
    "            optimizer.zero_grad()\n",
    "            inp = inp.to(current_device)\n",
    "            target = target.to(current_device)\n",
    "\n",
    "            # == Forward pass.\n",
    "            logits = model(inp)\n",
    "\n",
    "            # == Computed (summed) loss.\n",
    "            loss = criterion(logits.view(-1, logits.size(-1)), target.view(-1))\n",
    "            train_loss_cache += loss.item()\n",
    "\n",
    "            # == Compute the number of non `<pad>` tokens in the target.\n",
    "            non_pad_tokens = target.view(-1).ne(dictionary.get_id('<pad>')).sum().item()\n",
    "\n",
    "            # == Normalize the (summed) loss so that it is an average.\n",
    "            loss /= non_pad_tokens  \n",
    "            loss.backward()\n",
    "            optimizer.step()\n",
    "\n",
    "            train_non_pad_tokens_cache += non_pad_tokens\n",
    "            if i % 100 == 0:\n",
    "                avg_loss = train_loss_cache/train_non_pad_tokens_cache\n",
    "                print('Step {} avg train loss = {:.{prec}f}'.format(i, avg_loss, prec=4))\n",
    "\n",
    "        # -- Validation\n",
    "        valid_loss_cache = 0\n",
    "        valid_non_pad_tokens_cache = 0\n",
    "\n",
    "        model.eval()\n",
    "        with torch.no_grad():\n",
    "            non_pad_tokens = 0\n",
    "            for i, (inp, target) in enumerate(dataloaders['valid']):\n",
    "                inp = inp.to(current_device)\n",
    "                target = target.to(current_device)\n",
    "\n",
    "                # == Forward pass and loss\n",
    "                logits = model(inp)\n",
    "                loss = criterion(logits.view(-1, logits.size(-1)), target.view(-1))\n",
    "                valid_loss_cache += loss.item()            \n",
    "\n",
    "                # == Normalize the loss\n",
    "                non_pad_tokens = target.view(-1).ne(dictionary.get_id('<pad>')).sum().item()\n",
    "                valid_non_pad_tokens_cache += non_pad_tokens\n",
    "\n",
    "            avg_val_loss = valid_loss_cache / valid_non_pad_tokens_cache\n",
    "            print('Validation loss after {} epoch = {:.{prec}f}'.format(epoch_number, avg_val_loss, prec=4))\n",
    "\n",
    "        plot_cache.append((avg_loss, avg_val_loss))"
   ]
  },
  {
   "cell_type": "code",
   "execution_count": 0,
   "metadata": {
    "colab": {},
    "colab_type": "code",
    "id": "DEjiLvdFmjrg"
   },
   "outputs": [],
   "source": [
    "if load_pretrained:\n",
    "    plot_cache = model_dict['loss_cache']"
   ]
  },
  {
   "cell_type": "code",
   "execution_count": 19,
   "metadata": {
    "colab": {
     "base_uri": "https://localhost:8080/",
     "height": 281
    },
    "colab_type": "code",
    "id": "C0nNouO4Z-TJ",
    "outputId": "c5bbbd09-2a6f-4272-abe2-07b027cb58ad"
   },
   "outputs": [
    {
     "data": {
      "image/png": "[encoded data removed]",
      "text/plain": [
       "<Figure size 432x288 with 1 Axes>"
      ]
     },
     "metadata": {
      "tags": []
     },
     "output_type": "display_data"
    }
   ],
   "source": [
    "import matplotlib.pyplot as plt\n",
    "import numpy\n",
    "\n",
    "epochs = numpy.array(list(range(len(plot_cache))))\n",
    "plt.plot(epochs, [i[0] for i in plot_cache], label='Train loss')\n",
    "plt.plot(epochs, [i[1] for i in plot_cache], label='Valid loss')\n",
    "\n",
    "plt.legend()\n",
    "plt.title('Loss curves')\n",
    "plt.show()"
   ]
  },
  {
   "cell_type": "markdown",
   "metadata": {
    "colab_type": "text",
    "id": "UTyb2zZYbj_O"
   },
   "source": [
    "### 4. Evaluate the model\n",
    "\n",
    "#### Recap: Perplexity\n",
    "Recall **perplexity** from the preceding lab:\n",
    "\n",
    "\\begin{align}\n",
    "\\large \\text{ppl}(p, D) &\\large = 2^{-\\frac{1}{N_{total}}\\log_2 p(D)}\n",
    "\\end{align}\n",
    "\n",
    "where $D=\\{(w_1,\\ldots,w_{N_i})_i\\}_{i=1}^M$ is a dataset of $M$ sequences with total length $N_{\\text{total}}=\\sum_{i}N_i$.\n",
    "\n",
    "#### Computing perplexity\n",
    "\n",
    "Our model's loss is the (negative) log probability of every token in the output sequence, which can be used to compute perplexity.\n",
    "\n",
    "We define perplexity using the **base 2** logarithm. By default `torch.log` uses base `e`. \n",
    "\n",
    "To **convert to base 2** we use: `log_2 p = log_e p / log_e 2`."
   ]
  },
  {
   "cell_type": "code",
   "execution_count": 20,
   "metadata": {
    "colab": {
     "base_uri": "https://localhost:8080/",
     "height": 281
    },
    "colab_type": "code",
    "id": "dcuSFVZvbmWR",
    "outputId": "9e988837-56f8-47d0-f493-6298cebe697b"
   },
   "outputs": [
    {
     "data": {
      "image/png": "[encoded data removed]",
      "text/plain": [
       "<Figure size 432x288 with 1 Axes>"
      ]
     },
     "metadata": {
      "tags": []
     },
     "output_type": "display_data"
    }
   ],
   "source": [
    "import matplotlib.pyplot as plt\n",
    "import numpy\n",
    "\n",
    "epochs = numpy.array(list(range(len(plot_cache))))\n",
    "plt.plot(epochs, [2**(i[0]/numpy.log(2)) for i in plot_cache], label='Train ppl')\n",
    "plt.plot(epochs, [2**(i[1]/numpy.log(2)) for i in plot_cache], label='Valid ppl')\n",
    "\n",
    "plt.legend()\n",
    "plt.title('PPL curves')\n",
    "plt.show()"
   ]
  },
  {
   "cell_type": "code",
   "execution_count": 0,
   "metadata": {
    "colab": {},
    "colab_type": "code",
    "id": "9t_WHUYcOe_8"
   },
   "outputs": [],
   "source": [
    "# Saving the model\n",
    "if False:\n",
    "    torch.save({\n",
    "        'options': options,\n",
    "        'loss_cache': plot_cache,\n",
    "        'model_dict': model.state_dict()\n",
    "    }, './persona_ffnn_lm.pt')"
   ]
  },
  {
   "cell_type": "markdown",
   "metadata": {
    "colab_type": "text",
    "id": "IiCddv6N4b3Z"
   },
   "source": [
    "#### Conditional probability queries\n",
    "We can now query the model for conditional probabilities:\n",
    "\n",
    "\\begin{align}\n",
    "\\large p(x_t|x_{t-1},\\ldots,x_{t-4}) \n",
    "\\end{align} "
   ]
  },
  {
   "cell_type": "code",
   "execution_count": 22,
   "metadata": {
    "colab": {
     "base_uri": "https://localhost:8080/",
     "height": 85
    },
    "colab_type": "code",
    "id": "hv39trjM4b3Z",
    "outputId": "c7319c2d-f4b0-49b9-ed72-e432c87235d0"
   },
   "outputs": [
    {
     "name": "stdout",
     "output_type": "stream",
     "text": [
      "p( dog  | <bos> i have a )\t= 7.468E-02\n",
      "p( zebra  | <bos> i have a )\t= 1.473E-04\n",
      "p( donut  | <bos> i have a )\t= 7.881E-06\n",
      "p( velociraptor  | <bos> i have a )\t= 1.323E-06\n"
     ]
    }
   ],
   "source": [
    "import torch\n",
    "\n",
    "def next_token_probabilities(prefix, token):\n",
    "    inp = dictionary.encode_token_seq(prefix.split(' '))\n",
    "    with torch.no_grad():\n",
    "        model.eval()\n",
    "        logits = model(\n",
    "            torch.tensor([inp], dtype=torch.long).to(current_device)\n",
    "        )\n",
    "    token_id = dictionary.get_id(token)\n",
    "    p_next_token = torch.softmax(logits, dim=-1)\n",
    "    return p_next_token[0, token_id]\n",
    "\n",
    "prefix = '<bos> i have a'\n",
    "\n",
    "for w in ['dog', 'zebra', 'donut', 'velociraptor']:\n",
    "    prob = next_token_probabilities(prefix, w)\n",
    "    print('p( %s  | %s )\\t= %.3E' % (w, prefix, prob))\n",
    "    "
   ]
  },
  {
   "cell_type": "markdown",
   "metadata": {
    "colab_type": "text",
    "id": "SRLcMy764b3e"
   },
   "source": [
    "\n",
    "\n",
    "And sort by the highest probability next-tokens:\n",
    "\n",
    "$\\large \\texttt{sort}(p(\\cdot|\\underbrace{x_{<t}}_{\\text{prefix}}))$"
   ]
  },
  {
   "cell_type": "code",
   "execution_count": 23,
   "metadata": {
    "colab": {
     "base_uri": "https://localhost:8080/",
     "height": 187
    },
    "colab_type": "code",
    "id": "l4zVv--owi3d",
    "outputId": "c48c7f99-bcfe-4a1c-bdee-de22328aa8c2"
   },
   "outputs": [
    {
     "name": "stdout",
     "output_type": "stream",
     "text": [
      "p( dog  | <bos> i have a )\t= 0.07468\n",
      "p( cat  | <bos> i have a )\t= 0.04418\n",
      "p( lot  | <bos> i have a )\t= 0.04310\n",
      "p( job  | <bos> i have a )\t= 0.03759\n",
      "p( couple  | <bos> i have a )\t= 0.03458\n",
      "p( few  | <bos> i have a )\t= 0.02293\n",
      "p( black  | <bos> i have a )\t= 0.01704\n",
      "p( little  | <bos> i have a )\t= 0.01618\n",
      "p( hard  | <bos> i have a )\t= 0.01604\n",
      "p( very  | <bos> i have a )\t= 0.01478\n"
     ]
    }
   ],
   "source": [
    "def get_top_token_given_prefix(prefix, top=10):\n",
    "    inp = dictionary.encode_token_seq(prefix.split(' '))\n",
    "    with torch.no_grad():\n",
    "        model.eval()\n",
    "        logits = model(\n",
    "            torch.tensor([inp], dtype=torch.long).to(current_device)\n",
    "        )\n",
    "        \n",
    "    p_next_token = torch.softmax(logits, dim=-1)\n",
    "    sorted_probs, sorted_token_ids = torch.topk(p_next_token[0], top)\n",
    "\n",
    "    for i in range(sorted_token_ids.size(0)):\n",
    "        print('p( %s  | %s )\\t= %.5f' % \n",
    "              (dictionary.decode_idx_seq([sorted_token_ids[i]])[0], \n",
    "               prefix, \n",
    "               sorted_probs[i])\n",
    "        )\n",
    "\n",
    "get_top_token_given_prefix('<bos> i have a')  # '<bos> the weather is'  '<bos> <bos> <bos> hello'"
   ]
  },
  {
   "cell_type": "markdown",
   "metadata": {
    "colab_type": "raw",
    "id": "UkGvr6Ni4b3i"
   },
   "source": []
  },
  {
   "cell_type": "markdown",
   "metadata": {
    "colab_type": "text",
    "id": "Eb9Va-p4bj96"
   },
   "source": [
    "# Recurrent neural network language model\n",
    "Recall that in **language modeling**, we want to model the probability of variable length sequences, $$p(x_1,\\ldots,x_T)=\\prod_{t=1}^T p(x_t|x_{<t}).$$\n",
    "\n",
    "*Unlike n-gram models*, we will now define a model that allows a **full history** $x_{<t}$.\n",
    "\n",
    "To do so, we will use a function called a **recurrent neural network** to compute each distribution $p(x_t|x_{<t})$:\n",
    "\\begin{align}\n",
    "h_t &= f^{\\text{RNN}}_{\\theta}(x_{t-1}, h_{t-1}) & \\mathbb{R}^d\\\\\n",
    "s_t &= Wh_t & \\mathbb{R}^{\\text{|vocab|}}\\\\\n",
    "p_{\\theta}(x_t|x_{<t}) &= \\text{softmax}(s_t) & [0,1]^{\\text{|vocab|}}\n",
    "\\end{align}\n",
    "\n",
    "where $h_t$ is an internal (hidden) state of the model at time step $t$, and $x_t$ is an input at time step $t$.\n",
    "\n",
    "<img src=\"https://github.com/bamtak/ammi-nlp/blob/master/course%202/img/rnn.png?raw=1\" alt=\"Drawing\" style=\"width: 35%; margin-left: 29%; padding: 3em;\"/>"
   ]
  },
  {
   "cell_type": "markdown",
   "metadata": {
    "colab_type": "text",
    "id": "j2Qeej784b3k"
   },
   "source": [
    "\n",
    "In the simplest form used in practice, $f_{\\theta}^{\\text{RNN}}$ is defined as:\n",
    " $$f_{\\theta}^{\\text{RNN}}(x_{t-1}, h_{t-1}) = \\text{tanh}(a_t)\\\\ a_t = b + W \\cdot h_{t-1} + U \\cdot x_{t-1},$$\n",
    " \n",
    "but there are other variants (e.g. [GRU](https://arxiv.org/pdf/1406.1078.pdf), [LSTM](https://www.bioinf.jku.at/publications/older/2604.pdf)).\n",
    "\n",
    "Similar to the n-gram neural network above, the goal at time $t$ is to **predict the next token $x_t$**."
   ]
  },
  {
   "cell_type": "markdown",
   "metadata": {
    "colab_type": "text",
    "id": "DLTwdNF-bj97"
   },
   "source": [
    "### Pytorch implementation: `RNNCell`"
   ]
  },
  {
   "cell_type": "code",
   "execution_count": 0,
   "metadata": {
    "colab": {},
    "colab_type": "code",
    "id": "F1WfgVLybj98"
   },
   "outputs": [],
   "source": [
    "from torch.nn import RNNCell\n",
    "# RNNCell??"
   ]
  },
  {
   "cell_type": "code",
   "execution_count": 0,
   "metadata": {
    "colab": {},
    "colab_type": "code",
    "id": "OseW45d9bj9_"
   },
   "outputs": [],
   "source": [
    "import torch\n",
    "hidden_size = 16\n",
    "embedding_dim = 8\n",
    "\n",
    "rnn_cell = RNNCell(embedding_dim, hidden_size)"
   ]
  },
  {
   "cell_type": "code",
   "execution_count": 26,
   "metadata": {
    "colab": {
     "base_uri": "https://localhost:8080/",
     "height": 51
    },
    "colab_type": "code",
    "id": "UnPEPW5Nbj-B",
    "outputId": "5173cc4e-fc3e-460f-bf18-9d30687801a7"
   },
   "outputs": [
    {
     "name": "stdout",
     "output_type": "stream",
     "text": [
      "tensor([[0., 0., 0., 0., 0., 0., 0., 0., 0., 0., 0., 0., 0., 0., 0., 0.]])\n",
      "torch.Size([1, 16])\n"
     ]
    }
   ],
   "source": [
    "hidden = torch.zeros(1, hidden_size)\n",
    "print(hidden)\n",
    "print(hidden.size())"
   ]
  },
  {
   "cell_type": "code",
   "execution_count": 27,
   "metadata": {
    "colab": {
     "base_uri": "https://localhost:8080/",
     "height": 51
    },
    "colab_type": "code",
    "id": "9TIjbLsMbj-C",
    "outputId": "7e976631-0e2a-473c-e1d0-8b26aa4b2992"
   },
   "outputs": [
    {
     "name": "stdout",
     "output_type": "stream",
     "text": [
      "tensor([[0.2994, 0.1882, 0.1145, 0.7439, 0.5439, 0.7164, 0.5602, 0.8392]])\n",
      "torch.Size([1, 8])\n"
     ]
    }
   ],
   "source": [
    "random_input = torch.rand(1, embedding_dim)\n",
    "print(random_input)\n",
    "print(random_input.size())"
   ]
  },
  {
   "cell_type": "code",
   "execution_count": 28,
   "metadata": {
    "colab": {
     "base_uri": "https://localhost:8080/",
     "height": 85
    },
    "colab_type": "code",
    "id": "1n2k_CEBbj-E",
    "outputId": "2a3dddaf-57a9-4f64-cb1e-5ad1daa068d8"
   },
   "outputs": [
    {
     "name": "stdout",
     "output_type": "stream",
     "text": [
      "tensor([[ 0.4792,  0.3140,  0.4046,  0.3296, -0.1689,  0.1591, -0.1911,  0.3836,\n",
      "          0.0628, -0.2033, -0.2268,  0.3984,  0.3073, -0.0865, -0.0049,  0.0645]],\n",
      "       grad_fn=<TanhBackward>)\n",
      "torch.Size([1, 16])\n"
     ]
    }
   ],
   "source": [
    "hidden = rnn_cell(random_input, hidden)\n",
    "print(hidden)\n",
    "print(hidden.size())"
   ]
  },
  {
   "cell_type": "markdown",
   "metadata": {
    "colab_type": "text",
    "id": "L4QaNlS2bj-O"
   },
   "source": [
    "### Pytorch implementation: `RNN`\n",
    "\n",
    "`RNNCell` is a building block of an RNN model. The Pytorch `RNN` model supports multi-layer networks by creating separate `RNNCell`s for every layer. \n",
    "\n",
    "`RNN` can also process a whole sequence of data by iteratively applying `RNNCell`."
   ]
  },
  {
   "cell_type": "code",
   "execution_count": 0,
   "metadata": {
    "colab": {},
    "colab_type": "code",
    "id": "FCvackw4bj-O"
   },
   "outputs": [],
   "source": [
    "from torch.nn import RNNBase, RNN\n",
    "# RNNBase.__init__??\n",
    "# RNN.__init__??"
   ]
  },
  {
   "cell_type": "markdown",
   "metadata": {
    "colab_type": "text",
    "id": "LHqYjtCYbj--"
   },
   "source": [
    "### 1. Define the model"
   ]
  },
  {
   "cell_type": "code",
   "execution_count": 0,
   "metadata": {
    "colab": {},
    "colab_type": "code",
    "id": "IdlUbyiybj_A"
   },
   "outputs": [],
   "source": [
    "import torch.nn as nn\n",
    "\n",
    "class RNNLanguageModel(nn.Module):\n",
    "    def __init__(self, options):\n",
    "        super().__init__()\n",
    "        \n",
    "        self.lookup = nn.Embedding(\n",
    "            num_embeddings=options['num_embeddings'], \n",
    "            embedding_dim=options['embedding_dim'], \n",
    "            padding_idx=options['padding_idx']\n",
    "        )\n",
    "        self.rnn = nn.RNN(\n",
    "            options['input_size'], \n",
    "            options['hidden_size'], \n",
    "            options['num_layers'], \n",
    "            dropout=options['rnn_dropout'], \n",
    "            batch_first=True\n",
    "        )\n",
    "        self.projection = nn.Linear(\n",
    "            options['hidden_size'], \n",
    "            options['num_embeddings']\n",
    "        )\n",
    "        \n",
    "    def forward(self, token_ids):\n",
    "        embeddings = self.lookup(token_ids)\n",
    "        output, hidden = self.rnn(embeddings)\n",
    "        logits = self.projection(output) \n",
    "        return logits"
   ]
  },
  {
   "cell_type": "markdown",
   "metadata": {
    "colab_type": "text",
    "id": "6MF8a-WE4b4D"
   },
   "source": [
    "### 2. Prepare the data"
   ]
  },
  {
   "cell_type": "markdown",
   "metadata": {
    "colab_type": "text",
    "id": "cBf-HTTM4b4D"
   },
   "source": [
    "#### Dataset and Dataloader\n",
    "\n",
    "See `data_utils.py` for the implementation. "
   ]
  },
  {
   "cell_type": "code",
   "execution_count": 31,
   "metadata": {
    "colab": {
     "base_uri": "https://localhost:8080/",
     "height": 51
    },
    "colab_type": "code",
    "id": "7BTL6YbN4b4E",
    "outputId": "0908f1a7-7b72-4c7e-ad09-99b5d7b758a2"
   },
   "outputs": [
    {
     "name": "stderr",
     "output_type": "stream",
     "text": [
      "100%|██████████| 133176/133176 [00:19<00:00, 6735.24it/s]\n",
      "100%|██████████| 16181/16181 [00:03<00:00, 5193.66it/s]\n"
     ]
    }
   ],
   "source": [
    "datasets_ = load_personachat('./')\n",
    "dictionary = Dictionary(datasets_, include_valid=True)\n",
    "datasets_ = tokenize_dataset(datasets_, dictionary)\n",
    "\n",
    "datasets = {}\n",
    "for split, dataset in datasets_.items():\n",
    "    datasets[split] = TensoredDataset(dataset, dictionary.get_id('<pad>'))"
   ]
  },
  {
   "cell_type": "markdown",
   "metadata": {
    "colab_type": "text",
    "id": "yidYQOeP4b4H"
   },
   "source": [
    "- The **input** is now a **full sequence**.\n",
    "- The **output** is the **next token** for each position of the input:"
   ]
  },
  {
   "cell_type": "code",
   "execution_count": 32,
   "metadata": {
    "colab": {
     "base_uri": "https://localhost:8080/",
     "height": 119
    },
    "colab_type": "code",
    "id": "jSOmYZk44b4I",
    "outputId": "f508ee7b-1da9-4313-99d1-3d961270d1ff"
   },
   "outputs": [
    {
     "name": "stdout",
     "output_type": "stream",
     "text": [
      "Input: \n",
      "\ttensor([ 0,  4,  5,  6,  7,  8,  9, 10, 11, 12])\n",
      "\t(['<bos>', 'i', 'am', 'doing', 'great', 'except', 'for', 'the', 'allergies', '.'])\n",
      "Output: \n",
      "\ttensor([ 4,  5,  6,  7,  8,  9, 10, 11, 12,  1])\n",
      "\t(['i', 'am', 'doing', 'great', 'except', 'for', 'the', 'allergies', '.', '<eos>'])\n"
     ]
    }
   ],
   "source": [
    "inp, out = datasets['train'][0]\n",
    "\n",
    "print(\"Input: \\n\\t%s\\n\\t(%s)\" %\n",
    "      (inp.data[0], dictionary.decode_idx_seq(inp.data[0])))\n",
    "\n",
    "print(\"Output: \\n\\t%s\\n\\t(%s)\" %\n",
    "      (out.data[0], dictionary.decode_idx_seq(out.data[0])))"
   ]
  },
  {
   "cell_type": "markdown",
   "metadata": {
    "colab_type": "text",
    "id": "rHWC42r24b4K"
   },
   "source": [
    "#### Pytorch dataloader"
   ]
  },
  {
   "cell_type": "code",
   "execution_count": 0,
   "metadata": {
    "colab": {},
    "colab_type": "code",
    "id": "hLsTVHyz4b4L"
   },
   "outputs": [],
   "source": [
    "dataloaders = {}\n",
    "batch_size = 128\n",
    "\n",
    "for split, dataset in datasets.items():\n",
    "    dataloaders[split] = DataLoader(\n",
    "        dataset, \n",
    "        batch_size=batch_size, \n",
    "        shuffle=True, \n",
    "        collate_fn=dataset.pad_collate_fn  # pads the sequences in the batch\n",
    "    )"
   ]
  },
  {
   "cell_type": "markdown",
   "metadata": {
    "colab_type": "text",
    "id": "KgfVEiFl4b4N"
   },
   "source": [
    "#### Padding to handle variable sequence lengths:"
   ]
  },
  {
   "cell_type": "code",
   "execution_count": 34,
   "metadata": {
    "colab": {
     "base_uri": "https://localhost:8080/",
     "height": 170
    },
    "colab_type": "code",
    "id": "XALwzTg94b4O",
    "outputId": "704ebf45-92a2-4829-96f4-50a6fad15bbd"
   },
   "outputs": [
    {
     "name": "stdout",
     "output_type": "stream",
     "text": [
      "Batch size torch.Size([128, 21])\n",
      "Batch element 1: \n",
      "\ttensor([   0,    4,   46,  244,  982,  152,   71,    4,  229, 1367,  242,   50,\n",
      "        3168,   12,    2,    2,    2,    2,    2,    2,    2])\n",
      "\t(<bos> i work an office job but i really wanna try out exploring . <pad> <pad> <pad> <pad> <pad> <pad> <pad>)\n",
      "Batch element 2: \n",
      "\ttensor([   0, 2212,   43,  456, 5039,   49,  128, 1106,   12,    4,    5,  244,\n",
      "        5419, 4936,   33,    2,    2,    2,    2,    2,    2])\n",
      "\t(<bos> ah , our careers go well together . i am an interior designer ! <pad> <pad> <pad> <pad> <pad> <pad>)\n"
     ]
    }
   ],
   "source": [
    "inp, target = next(dataloaders['train'].__iter__())\n",
    "\n",
    "print(\"Batch size %s\" % str(inp.shape))\n",
    "print(\"Batch element 1: \\n\\t%s\\n\\t(%s)\" %\n",
    "      (inp.data[0], ' '.join(dictionary.decode_idx_seq(inp.data[0]))))\n",
    "print(\"Batch element 2: \\n\\t%s\\n\\t(%s)\" %\n",
    "      (inp.data[1], ' '.join(dictionary.decode_idx_seq(inp.data[1]))))"
   ]
  },
  {
   "cell_type": "markdown",
   "metadata": {
    "colab_type": "text",
    "id": "czNMkhBQ4b4T"
   },
   "source": [
    "### 3. Train the model\n",
    "\n",
    "#### Initializing model, criterion, and optimizer (similar to the feedforward model)"
   ]
  },
  {
   "cell_type": "code",
   "execution_count": 0,
   "metadata": {
    "colab": {},
    "colab_type": "code",
    "id": "zQB-RbIhbj_B"
   },
   "outputs": [],
   "source": [
    "import torch\n",
    "import torch.nn as nn\n",
    "import torch.optim as optim\n",
    "\n",
    "load_pretrained = True\n",
    "\n",
    "num_gpus = torch.cuda.device_count()\n",
    "if num_gpus > 0:\n",
    "    current_device = 'cuda'\n",
    "else:\n",
    "    current_device = 'cpu'\n",
    "\n",
    "if load_pretrained:\n",
    "    if not os.path.exists('personachat_rnn_lm.pt'):\n",
    "        raise EOFError('Download pretrained model!')\n",
    "    model_dict = torch.load(\n",
    "        'personachat_rnn_lm.pt',\n",
    "        map_location=torch.device(current_device)\n",
    "    )\n",
    "    \n",
    "    options = model_dict['options']\n",
    "    model = RNNLanguageModel(options).to(current_device)\n",
    "    model.load_state_dict(model_dict['model_dict'])\n",
    "    \n",
    "else:\n",
    "    embedding_size = 256\n",
    "    hidden_size = 512\n",
    "    num_layers = 3\n",
    "    rnn_dropout = 0.3\n",
    "\n",
    "    options = {\n",
    "        'num_embeddings': len(dictionary),\n",
    "        'embedding_dim': embedding_size,\n",
    "        'padding_idx': dictionary.get_id('<pad>'),\n",
    "        'input_size': embedding_size,\n",
    "        'hidden_size': hidden_size,\n",
    "        'num_layers': num_layers,\n",
    "        'rnn_dropout': rnn_dropout,\n",
    "    }\n",
    "    model = RNNLanguageModel(options).to(current_device)\n",
    "    \n",
    "\n",
    "criterion = nn.CrossEntropyLoss(\n",
    "    ignore_index=dictionary.get_id('<pad>'), \n",
    "    reduction='sum'\n",
    ")\n",
    "\n",
    "model_parameters = [p for p in model.parameters() if p.requires_grad]\n",
    "optimizer = optim.SGD(model_parameters, lr=0.001, momentum=0.999)"
   ]
  },
  {
   "cell_type": "code",
   "execution_count": 36,
   "metadata": {
    "colab": {
     "base_uri": "https://localhost:8080/",
     "height": 102
    },
    "colab_type": "code",
    "id": "qmMLIrhjbj_D",
    "outputId": "23961a60-d096-41f6-8793-95f75fac61e7"
   },
   "outputs": [
    {
     "data": {
      "text/plain": [
       "RNNLanguageModel(\n",
       "  (lookup): Embedding(20089, 256, padding_idx=2)\n",
       "  (rnn): RNN(256, 512, num_layers=3, batch_first=True, dropout=0.3)\n",
       "  (projection): Linear(in_features=512, out_features=20089, bias=True)\n",
       ")"
      ]
     },
     "execution_count": 36,
     "metadata": {
      "tags": []
     },
     "output_type": "execute_result"
    }
   ],
   "source": [
    "model"
   ]
  },
  {
   "cell_type": "code",
   "execution_count": 0,
   "metadata": {
    "colab": {},
    "colab_type": "code",
    "id": "qwBqO3z7bj_L"
   },
   "outputs": [],
   "source": [
    "#### Training loop (same as the feedforward model)"
   ]
  },
  {
   "cell_type": "code",
   "execution_count": 0,
   "metadata": {
    "colab": {},
    "colab_type": "code",
    "id": "Fw28_6qXbj_M"
   },
   "outputs": [],
   "source": [
    "plot_cache = []\n",
    "\n",
    "if not load_pretrained:\n",
    "    for epoch_number in range(100):\n",
    "        avg_loss = 0\n",
    "        model.train()\n",
    "\n",
    "        train_loss_cache = 0\n",
    "        train_non_pad_tokens_cache = 0\n",
    "\n",
    "        for i, (inp, target) in enumerate(dataloaders['train']):\n",
    "            optimizer.zero_grad()\n",
    "            inp = inp.to(current_device)\n",
    "            target = target.to(current_device)\n",
    "            logits = model(inp)\n",
    "\n",
    "            loss = criterion(logits.view(-1, logits.size(-1)), target.view(-1))\n",
    "            train_loss_cache += loss.item()  # still sum here\n",
    "\n",
    "            non_pad_tokens = target.view(-1).ne(dictionary.get_id('<pad>')).sum().item()            \n",
    "            train_non_pad_tokens_cache += non_pad_tokens\n",
    "\n",
    "            loss /= non_pad_tokens \n",
    "\n",
    "            loss.backward()\n",
    "            optimizer.step()\n",
    "\n",
    "            if i % 100 == 0:\n",
    "                avg_loss = train_loss_cache / train_non_pad_tokens_cache\n",
    "                print('Step {} avg train loss = {:.{prec}f}'.format(i, avg_loss, prec=4))\n",
    "                train_log_cache = []\n",
    "\n",
    "        valid_loss_cache = 0\n",
    "        valid_non_pad_tokens_cache = 0\n",
    "\n",
    "        model.eval()\n",
    "        with torch.no_grad():\n",
    "            for i, (inp, target) in enumerate(dataloaders['valid']):\n",
    "                inp = inp.to(current_device)\n",
    "                target = target.to(current_device)\n",
    "                logits = model(inp)\n",
    "\n",
    "                loss = criterion(logits.view(-1, logits.size(-1)), target.view(-1))\n",
    "                valid_loss_cache += loss.item()  # still sum here\n",
    "                non_pad_tokens = target.view(-1).ne(dictionary.get_id('<pad>')).sum().item()\n",
    "\n",
    "                valid_non_pad_tokens_cache += non_pad_tokens\n",
    "\n",
    "            avg_val_loss = valid_loss_cache / valid_non_pad_tokens_cache\n",
    "\n",
    "            print('Validation loss after {} epoch = {:.{prec}f}'.format(epoch_number, avg_val_loss, prec=4))\n",
    "\n",
    "        plot_cache.append((avg_loss, avg_val_loss))\n"
   ]
  },
  {
   "cell_type": "code",
   "execution_count": 0,
   "metadata": {
    "colab": {},
    "colab_type": "code",
    "id": "KAV_hzMvbj_O"
   },
   "outputs": [],
   "source": [
    "if load_pretrained:\n",
    "    plot_cache = model_dict['loss_cache']"
   ]
  },
  {
   "cell_type": "markdown",
   "metadata": {
    "colab_type": "text",
    "id": "hur7iBgt4b4l"
   },
   "source": [
    "### 4. Evaluation"
   ]
  },
  {
   "cell_type": "code",
   "execution_count": 40,
   "metadata": {
    "colab": {
     "base_uri": "https://localhost:8080/",
     "height": 281
    },
    "colab_type": "code",
    "id": "fhTtmqBfufyE",
    "outputId": "b8a460f0-5c9a-448f-dc2e-c3b349551d0b"
   },
   "outputs": [
    {
     "data": {
      "image/png": "[encoded data removed]",
      "text/plain": [
       "<Figure size 432x288 with 1 Axes>"
      ]
     },
     "metadata": {
      "tags": []
     },
     "output_type": "display_data"
    }
   ],
   "source": [
    "import matplotlib.pyplot as plt\n",
    "import numpy\n",
    "\n",
    "epochs = numpy.array(list(range(len(plot_cache))))\n",
    "plt.plot(epochs, [i[0] for i in plot_cache], label='Train loss')\n",
    "plt.plot(epochs, [i[1] for i in plot_cache], label='Valid loss')\n",
    "\n",
    "plt.legend()\n",
    "plt.title('Loss curves')\n",
    "plt.show()"
   ]
  },
  {
   "cell_type": "code",
   "execution_count": 41,
   "metadata": {
    "colab": {
     "base_uri": "https://localhost:8080/",
     "height": 281
    },
    "colab_type": "code",
    "id": "R_A4w1QFufyN",
    "outputId": "8d84f548-bbdd-4f77-91c8-b36579286753"
   },
   "outputs": [
    {
     "data": {
      "image/png": "[encoded data removed]",
      "text/plain": [
       "<Figure size 432x288 with 1 Axes>"
      ]
     },
     "metadata": {
      "tags": []
     },
     "output_type": "display_data"
    }
   ],
   "source": [
    "import matplotlib.pyplot as plt\n",
    "import numpy\n",
    "\n",
    "epochs = numpy.array(list(range(len(plot_cache))))\n",
    "plt.plot(epochs, [2**(i[0]/numpy.log(2)) for i in plot_cache], label='Train ppl')\n",
    "plt.plot(epochs, [2**(i[1]/numpy.log(2)) for i in plot_cache], label='Valid ppl')\n",
    "\n",
    "plt.legend()\n",
    "plt.title('PPL curves')\n",
    "plt.show()"
   ]
  },
  {
   "cell_type": "markdown",
   "metadata": {
    "colab_type": "text",
    "id": "zAvP_FXgbj_W"
   },
   "source": [
    "### Conditional probability queries\n",
    "\n",
    "We can query different probabilities:\n",
    "\n",
    "$\\large p(\\underbrace{x_t}_{\\text{token}}|\\underbrace{x_{<t}}_{\\text{prefix}})$"
   ]
  },
  {
   "cell_type": "code",
   "execution_count": 42,
   "metadata": {
    "colab": {
     "base_uri": "https://localhost:8080/",
     "height": 85
    },
    "colab_type": "code",
    "id": "TMG0r9zwbj_X",
    "outputId": "396dbc65-7617-45fe-ea95-8eaa39ab0ab9"
   },
   "outputs": [
    {
     "name": "stdout",
     "output_type": "stream",
     "text": [
      "p( dog  | <bos> i have a )\t= 6.960E-02\n",
      "p( zebra  | <bos> i have a )\t= 1.633E-04\n",
      "p( donut  | <bos> i have a )\t= 1.039E-05\n",
      "p( velociraptor  | <bos> i have a )\t= 2.267E-07\n"
     ]
    }
   ],
   "source": [
    "import torch\n",
    "\n",
    "def next_token_probabilities(prefix, token):\n",
    "    inp = dictionary.encode_token_seq(prefix.split(' '))\n",
    "    with torch.no_grad():\n",
    "        model.eval()\n",
    "        logits = model(\n",
    "            torch.tensor([inp], dtype=torch.long).to(current_device)\n",
    "        )\n",
    "        \n",
    "    token_id = dictionary.get_id(token)\n",
    "    p_next_token = torch.softmax(logits[0, -1], dim=-1)\n",
    "    return p_next_token[token_id]\n",
    "\n",
    "prefix = '<bos> i have a'\n",
    "\n",
    "for w in ['dog', 'zebra', 'donut', 'velociraptor']:\n",
    "    prob = next_token_probabilities(prefix, w)\n",
    "    print('p( %s  | %s )\\t= %.3E' % (w, prefix, prob))\n",
    "    "
   ]
  },
  {
   "cell_type": "markdown",
   "metadata": {
    "colab_type": "text",
    "id": "dfdAxSCh4b4u"
   },
   "source": [
    "\n",
    "\n",
    "And sort by the highest probability next-tokens:\n",
    "\n",
    "$\\large \\texttt{sort}(p(\\cdot|\\underbrace{x_{<t}}_{\\text{prefix}}))$"
   ]
  },
  {
   "cell_type": "code",
   "execution_count": 43,
   "metadata": {
    "colab": {
     "base_uri": "https://localhost:8080/",
     "height": 187
    },
    "colab_type": "code",
    "id": "F5NUOuF_4b4v",
    "outputId": "7bf105bf-54cd-40f9-c9de-0c2d81e7c3fc"
   },
   "outputs": [
    {
     "name": "stdout",
     "output_type": "stream",
     "text": [
      "p( great  | <bos> the weather is )\t= 0.09953\n",
      "p( nice  | <bos> the weather is )\t= 0.07859\n",
      "p( beautiful  | <bos> the weather is )\t= 0.06185\n",
      "p( fun  | <bos> the weather is )\t= 0.05039\n",
      "p( good  | <bos> the weather is )\t= 0.04573\n",
      "p( awesome  | <bos> the weather is )\t= 0.04308\n",
      "p( cool  | <bos> the weather is )\t= 0.04212\n",
      "p( my  | <bos> the weather is )\t= 0.03604\n",
      "p( a  | <bos> the weather is )\t= 0.02892\n",
      "p( so  | <bos> the weather is )\t= 0.02230\n"
     ]
    }
   ],
   "source": [
    "def get_top_token_given_prefix(prefix, top=10):\n",
    "    inp = dictionary.encode_token_seq(prefix.split(' '))\n",
    "    with torch.no_grad():\n",
    "        model.eval()\n",
    "        logits = model(\n",
    "            torch.tensor([inp], dtype=torch.long).to(current_device)\n",
    "        )\n",
    "        \n",
    "    p_next_token = torch.softmax(logits[0, -1], dim=-1)\n",
    "    sorted_probs, sorted_token_ids = torch.topk(p_next_token, top)\n",
    "\n",
    "    for i in range(sorted_token_ids.size(0)):\n",
    "        print('p( %s  | %s )\\t= %.5f' % \n",
    "              (dictionary.decode_idx_seq([sorted_token_ids[i]])[0], \n",
    "               prefix, \n",
    "               sorted_probs[i])\n",
    "        )\n",
    "\n",
    "get_top_token_given_prefix('<bos> the weather is')"
   ]
  },
  {
   "cell_type": "markdown",
   "metadata": {
    "colab_type": "text",
    "id": "dd-iHmj-4b4z"
   },
   "source": [
    "### Generation (Sampling)\n",
    "\n",
    "Finally, we can generate sentences using the model's conditional distribution:\n",
    "\n",
    "            context = [<bos>]\n",
    "            until <eos> is generated:\n",
    "                wt ~ p(wt | context)\n",
    "                context += [wt]\n",
    "                \n",
    "                \n",
    "Here, the `~` symbol stands for sampling from a categorical distribution. "
   ]
  },
  {
   "cell_type": "code",
   "execution_count": 44,
   "metadata": {
    "colab": {
     "base_uri": "https://localhost:8080/",
     "height": 374
    },
    "colab_type": "code",
    "id": "ASBRzg1g4b40",
    "outputId": "3052c335-9a33-4240-e51d-d5721f424e68"
   },
   "outputs": [
    {
     "name": "stdout",
     "output_type": "stream",
     "text": [
      "Temperature 1.00\n",
      "<bos> i have a lot of exercise there and my husband and i got hit early . <eos>\n",
      "<bos> i have a friend and we might freshmen game . <eos>\n",
      "<bos> i have a cat . since , and love the color red all for mine ! <eos>\n",
      "<bos> i have a very hard time . do you cuddle ? <eos>\n",
      "<bos> i have a mutt dog . <eos>\n",
      "\n",
      "Temperature 0.50\n",
      "<bos> i have a lot of friends and family . <eos>\n",
      "<bos> i have a dog that is my favorite . <eos>\n",
      "<bos> i have a lot of money . i like to play with my dogs . <eos>\n",
      "<bos> i have a dog . she is my best friend . <eos>\n",
      "<bos> i have a large family , i am an engineer . <eos>\n",
      "\n",
      "Temperature 0.10\n",
      "<bos> i have a cat named cow . <eos>\n",
      "<bos> i have a dog named toto . <eos>\n",
      "<bos> i have a dog named toto . <eos>\n",
      "<bos> i have a cat named cow . <eos>\n",
      "<bos> i have a cat named cow . <eos>\n",
      "\n"
     ]
    }
   ],
   "source": [
    "import torch\n",
    "\n",
    "def sample(model, prefix, num_samples, temperature=1.0, max_len=50):\n",
    "    inp = torch.tensor([\n",
    "        dictionary.encode_token_seq(prefix.split(' '))\n",
    "    ], dtype=torch.long).to(current_device).repeat([num_samples, 1])\n",
    "\n",
    "    sampled = [prefix.split(' ') for _ in range(num_samples)]\n",
    "    done = torch.tensor([False for _ in range(num_samples)])\n",
    "    hidden = None\n",
    "    \n",
    "    with torch.no_grad():\n",
    "        model.eval()\n",
    "        for t in range(max_len):\n",
    "            logits, hidden = step(model, inp, hidden)\n",
    "            logits_ = (logits[:, -1, :] / temperature)\n",
    "            inp = logits_.softmax(-1).multinomial(1)            \n",
    "            for i in range(num_samples):\n",
    "                tok_ti = dictionary.get_token(inp[i, 0].item())\n",
    "                if tok_ti == '<eos>' and not done[i]:\n",
    "                    done[i] = True\n",
    "                    sampled[i].append(tok_ti)\n",
    "                elif not done[i]:\n",
    "                    sampled[i].append(tok_ti)\n",
    "                else:\n",
    "                    pass\n",
    "            if done.sum() == num_samples:\n",
    "                break\n",
    "        \n",
    "    return sampled\n",
    "\n",
    "def step(rnn, token_ids, hidden):\n",
    "    embeddings = rnn.lookup(token_ids)\n",
    "    output, hidden = rnn.rnn(embeddings, hidden)\n",
    "    logits = rnn.projection(output) \n",
    "    return logits, hidden\n",
    "\n",
    "\n",
    "prefix = '<bos> i have a'\n",
    "\n",
    "for temp in [1.0, 0.5, 0.1]:\n",
    "    print(\"Temperature %.2f\" % temp)\n",
    "    samples = sample(model, prefix, 5, temperature=temp)\n",
    "    for s in samples:\n",
    "        print(' '.join(s))\n",
    "    print()"
   ]
  },
  {
   "cell_type": "code",
   "execution_count": 0,
   "metadata": {
    "colab": {},
    "colab_type": "code",
    "id": "uzGqlrKhbj_g"
   },
   "outputs": [],
   "source": [
    "# Saving the model\n",
    "if False:\n",
    "    torch.save({\n",
    "        'options': options,\n",
    "        'loss_cache': plot_cache,\n",
    "        'model_dict': model.state_dict()\n",
    "    }, './static_files/persona_rnn_lm.pt')"
   ]
  },
  {
   "cell_type": "markdown",
   "metadata": {
    "colab_type": "raw",
    "id": "TvZhhApD4b48"
   },
   "source": []
  },
  {
   "cell_type": "markdown",
   "metadata": {
    "colab_type": "text",
    "id": "_txPtVQd4b48"
   },
   "source": [
    "## Large-scale Language Modeling: GPT-2\n",
    "\n",
    "The language model above is relatively small in terms of the number of parameters, and is trained on a (very) small dataset.\n",
    "\n",
    "Recently, researchers have trained **large-scale language models** on **large amounts of data**, resulting in improved language modeling and generation ability. \n",
    "\n",
    "A representative example is **GPT-2** [[paper](https://cdn.openai.com/better-language-models/language_models_are_unsupervised_multitask_learners.pdf)], [[blog](https://openai.com/blog/better-language-models/)]. We won't currently discuss the details of this model, but we can easily **use a pre-trained version to generate text**:"
   ]
  },
  {
   "cell_type": "code",
   "execution_count": 46,
   "metadata": {
    "colab": {
     "base_uri": "https://localhost:8080/",
     "height": 646
    },
    "colab_type": "code",
    "id": "lDX1C4LK4b49",
    "outputId": "93e46249-b6ae-43b4-9018-e51a7bb6e20b"
   },
   "outputs": [
    {
     "name": "stdout",
     "output_type": "stream",
     "text": [
      "Collecting transformers\n",
      "\u001b[?25l  Downloading https://files.pythonhosted.org/packages/13/33/ffb67897a6985a7b7d8e5e7878c3628678f553634bd3836404fef06ef19b/transformers-2.5.1-py3-none-any.whl (499kB)\n",
      "\r",
      "\u001b[K     |▋                               | 10kB 16.7MB/s eta 0:00:01\r",
      "\u001b[K     |█▎                              | 20kB 2.1MB/s eta 0:00:01\r",
      "\u001b[K     |██                              | 30kB 3.1MB/s eta 0:00:01\r",
      "\u001b[K     |██▋                             | 40kB 2.1MB/s eta 0:00:01\r",
      "\u001b[K     |███▎                            | 51kB 2.6MB/s eta 0:00:01\r",
      "\u001b[K     |████                            | 61kB 3.0MB/s eta 0:00:01\r",
      "\u001b[K     |████▋                           | 71kB 3.5MB/s eta 0:00:01\r",
      "\u001b[K     |█████▎                          | 81kB 3.9MB/s eta 0:00:01\r",
      "\u001b[K     |██████                          | 92kB 4.4MB/s eta 0:00:01\r",
      "\u001b[K     |██████▋                         | 102kB 3.4MB/s eta 0:00:01\r",
      "\u001b[K     |███████▏                        | 112kB 3.4MB/s eta 0:00:01\r",
      "\u001b[K     |███████▉                        | 122kB 3.4MB/s eta 0:00:01\r",
      "\u001b[K     |████████▌                       | 133kB 3.4MB/s eta 0:00:01\r",
      "\u001b[K     |█████████▏                      | 143kB 3.4MB/s eta 0:00:01\r",
      "\u001b[K     |█████████▉                      | 153kB 3.4MB/s eta 0:00:01\r",
      "\u001b[K     |██████████▌                     | 163kB 3.4MB/s eta 0:00:01\r",
      "\u001b[K     |███████████▏                    | 174kB 3.4MB/s eta 0:00:01\r",
      "\u001b[K     |███████████▉                    | 184kB 3.4MB/s eta 0:00:01\r",
      "\u001b[K     |████████████▌                   | 194kB 3.4MB/s eta 0:00:01\r",
      "\u001b[K     |█████████████▏                  | 204kB 3.4MB/s eta 0:00:01\r",
      "\u001b[K     |█████████████▉                  | 215kB 3.4MB/s eta 0:00:01\r",
      "\u001b[K     |██████████████▍                 | 225kB 3.4MB/s eta 0:00:01\r",
      "\u001b[K     |███████████████                 | 235kB 3.4MB/s eta 0:00:01\r",
      "\u001b[K     |███████████████▊                | 245kB 3.4MB/s eta 0:00:01\r",
      "\u001b[K     |████████████████▍               | 256kB 3.4MB/s eta 0:00:01\r",
      "\u001b[K     |█████████████████               | 266kB 3.4MB/s eta 0:00:01\r",
      "\u001b[K     |█████████████████▊              | 276kB 3.4MB/s eta 0:00:01\r",
      "\u001b[K     |██████████████████▍             | 286kB 3.4MB/s eta 0:00:01\r",
      "\u001b[K     |███████████████████             | 296kB 3.4MB/s eta 0:00:01\r",
      "\u001b[K     |███████████████████▊            | 307kB 3.4MB/s eta 0:00:01\r",
      "\u001b[K     |████████████████████▍           | 317kB 3.4MB/s eta 0:00:01\r",
      "\u001b[K     |█████████████████████           | 327kB 3.4MB/s eta 0:00:01\r",
      "\u001b[K     |█████████████████████▋          | 337kB 3.4MB/s eta 0:00:01\r",
      "\u001b[K     |██████████████████████▎         | 348kB 3.4MB/s eta 0:00:01\r",
      "\u001b[K     |███████████████████████         | 358kB 3.4MB/s eta 0:00:01\r",
      "\u001b[K     |███████████████████████▋        | 368kB 3.4MB/s eta 0:00:01\r",
      "\u001b[K     |████████████████████████▎       | 378kB 3.4MB/s eta 0:00:01\r",
      "\u001b[K     |█████████████████████████       | 389kB 3.4MB/s eta 0:00:01\r",
      "\u001b[K     |█████████████████████████▋      | 399kB 3.4MB/s eta 0:00:01\r",
      "\u001b[K     |██████████████████████████▎     | 409kB 3.4MB/s eta 0:00:01\r",
      "\u001b[K     |███████████████████████████     | 419kB 3.4MB/s eta 0:00:01\r",
      "\u001b[K     |███████████████████████████▋    | 430kB 3.4MB/s eta 0:00:01\r",
      "\u001b[K     |████████████████████████████▏   | 440kB 3.4MB/s eta 0:00:01\r",
      "\u001b[K     |████████████████████████████▉   | 450kB 3.4MB/s eta 0:00:01\r",
      "\u001b[K     |█████████████████████████████▌  | 460kB 3.4MB/s eta 0:00:01\r",
      "\u001b[K     |██████████████████████████████▏ | 471kB 3.4MB/s eta 0:00:01\r",
      "\u001b[K     |██████████████████████████████▉ | 481kB 3.4MB/s eta 0:00:01\r",
      "\u001b[K     |███████████████████████████████▌| 491kB 3.4MB/s eta 0:00:01\r",
      "\u001b[K     |████████████████████████████████| 501kB 3.4MB/s \n",
      "\u001b[?25hRequirement already satisfied: regex!=2019.12.17 in /usr/local/lib/python3.6/dist-packages (from transformers) (2019.12.20)\n",
      "Requirement already satisfied: numpy in /usr/local/lib/python3.6/dist-packages (from transformers) (1.17.5)\n",
      "Collecting tokenizers==0.5.2\n",
      "\u001b[?25l  Downloading https://files.pythonhosted.org/packages/d1/3f/73c881ea4723e43c1e9acf317cf407fab3a278daab3a69c98dcac511c04f/tokenizers-0.5.2-cp36-cp36m-manylinux1_x86_64.whl (3.7MB)\n",
      "\u001b[K     |████████████████████████████████| 3.7MB 41.1MB/s \n",
      "\u001b[?25hRequirement already satisfied: filelock in /usr/local/lib/python3.6/dist-packages (from transformers) (3.0.12)\n",
      "Requirement already satisfied: tqdm>=4.27 in /usr/local/lib/python3.6/dist-packages (from transformers) (4.28.1)\n",
      "Collecting sentencepiece\n",
      "\u001b[?25l  Downloading https://files.pythonhosted.org/packages/74/f4/2d5214cbf13d06e7cb2c20d84115ca25b53ea76fa1f0ade0e3c9749de214/sentencepiece-0.1.85-cp36-cp36m-manylinux1_x86_64.whl (1.0MB)\n",
      "\u001b[K     |████████████████████████████████| 1.0MB 28.3MB/s \n",
      "\u001b[?25hCollecting sacremoses\n",
      "\u001b[?25l  Downloading https://files.pythonhosted.org/packages/a6/b4/7a41d630547a4afd58143597d5a49e07bfd4c42914d8335b2a5657efc14b/sacremoses-0.0.38.tar.gz (860kB)\n",
      "\u001b[K     |████████████████████████████████| 870kB 38.3MB/s \n",
      "\u001b[?25hRequirement already satisfied: requests in /usr/local/lib/python3.6/dist-packages (from transformers) (2.21.0)\n",
      "Requirement already satisfied: boto3 in /usr/local/lib/python3.6/dist-packages (from transformers) (1.11.15)\n",
      "Requirement already satisfied: six in /usr/local/lib/python3.6/dist-packages (from sacremoses->transformers) (1.12.0)\n",
      "Requirement already satisfied: click in /usr/local/lib/python3.6/dist-packages (from sacremoses->transformers) (7.0)\n",
      "Requirement already satisfied: joblib in /usr/local/lib/python3.6/dist-packages (from sacremoses->transformers) (0.14.1)\n",
      "Requirement already satisfied: certifi>=2017.4.17 in /usr/local/lib/python3.6/dist-packages (from requests->transformers) (2019.11.28)\n",
      "Requirement already satisfied: idna<2.9,>=2.5 in /usr/local/lib/python3.6/dist-packages (from requests->transformers) (2.8)\n",
      "Requirement already satisfied: urllib3<1.25,>=1.21.1 in /usr/local/lib/python3.6/dist-packages (from requests->transformers) (1.24.3)\n",
      "Requirement already satisfied: chardet<3.1.0,>=3.0.2 in /usr/local/lib/python3.6/dist-packages (from requests->transformers) (3.0.4)\n",
      "Requirement already satisfied: botocore<1.15.0,>=1.14.15 in /usr/local/lib/python3.6/dist-packages (from boto3->transformers) (1.14.15)\n",
      "Requirement already satisfied: s3transfer<0.4.0,>=0.3.0 in /usr/local/lib/python3.6/dist-packages (from boto3->transformers) (0.3.3)\n",
      "Requirement already satisfied: jmespath<1.0.0,>=0.7.1 in /usr/local/lib/python3.6/dist-packages (from boto3->transformers) (0.9.4)\n",
      "Requirement already satisfied: python-dateutil<3.0.0,>=2.1 in /usr/local/lib/python3.6/dist-packages (from botocore<1.15.0,>=1.14.15->boto3->transformers) (2.6.1)\n",
      "Requirement already satisfied: docutils<0.16,>=0.10 in /usr/local/lib/python3.6/dist-packages (from botocore<1.15.0,>=1.14.15->boto3->transformers) (0.15.2)\n",
      "Building wheels for collected packages: sacremoses\n",
      "  Building wheel for sacremoses (setup.py) ... \u001b[?25l\u001b[?25hdone\n",
      "  Created wheel for sacremoses: filename=sacremoses-0.0.38-cp36-none-any.whl size=884628 sha256=6802dc5159e379d749fababfeb34d1d2ea159e8f2f54c353b7339bcd3da8317f\n",
      "  Stored in directory: /root/.cache/pip/wheels/6d/ec/1a/21b8912e35e02741306f35f66c785f3afe94de754a0eaf1422\n",
      "Successfully built sacremoses\n",
      "Installing collected packages: tokenizers, sentencepiece, sacremoses, transformers\n",
      "Successfully installed sacremoses-0.0.38 sentencepiece-0.1.85 tokenizers-0.5.2 transformers-2.5.1\n"
     ]
    }
   ],
   "source": [
    "!pip install transformers"
   ]
  },
  {
   "cell_type": "markdown",
   "metadata": {
    "colab_type": "text",
    "id": "t4MkwxCI4b5A"
   },
   "source": [
    "#### Load the model and tokenizer"
   ]
  },
  {
   "cell_type": "code",
   "execution_count": 47,
   "metadata": {
    "colab": {
     "base_uri": "https://localhost:8080/",
     "height": 259,
     "referenced_widgets": [
      "a137f6d85cc34f789ce6ad75e5eac3ec",
      "546de62329414c7aafc74d6ad71093db",
      "912382ccf1d745e786d7a0dac5f2e54a",
      "74b13299f96444ff8c4238584dd290e6",
      "866a024f194a4f348df0e4a3c3cd2a0d",
      "d466cd96f75a487da830d471d9bda162",
      "ee7c79799fe44697ab93960d1c1de663",
      "c5a053a763754c90bc69288c52de1d75",
      "727cd93ff17641ccb7b9575c1c9149f0",
      "7705d4e7d5994d618ab03025b887cddb",
      "9e208326b1ea47ae810e387b91170382",
      "13f6f96c509b4ade9175dcbe2245cfff",
      "4e9c21e8e1b64aa3bddc92817ef05677",
      "5127ee82a6b843b18e5b7e59c71bf8cc",
      "2efb550984b547df8d2284feaf429b02",
      "3addbd8f067d4ed3937b9ed49242e221",
      "fe7c845b13824d83a447496a82c743bd",
      "6664f804c52741d7ab64e1441a096d5a",
      "c4dc49bfc2e14280a82d174032be87ba",
      "627e4102a5c44c2f98a0537527a63733",
      "3b5ca7f9d38e488a89e192ffb3e2cf55",
      "11b5e8e43bd4429fb33b20e15743d5de",
      "21a95fb8def745969d0aa1587c663cc5",
      "67e5f992c24b4c48a67fb991d7a4859b",
      "9bb56aac79314738bc00c5fc61a0279a",
      "490898aac5444f158ec89d1151d7774a",
      "4c3c6fda0cfd477cac092113c599dbf6",
      "183d36386d734620bbf1011c3ab93164",
      "308b4e756f704785a53fac1e9b3a55a7",
      "68d918e92aaa4c3d8fe33b54bb0d2f57",
      "596edf20d57742fd91ff1aa922ad1a35",
      "7cfefffb97c8404aba702bffb2fab748"
     ]
    },
    "colab_type": "code",
    "id": "mjOgoR1B4b5C",
    "outputId": "48dceb8e-c3a6-4514-90c6-663ca81ccd4c"
   },
   "outputs": [
    {
     "data": {
      "text/html": [
       "<p style=\"color: red;\">\n",
       "The default version of TensorFlow in Colab will soon switch to TensorFlow 2.x.<br>\n",
       "We recommend you <a href=\"https://www.tensorflow.org/guide/migrate\" target=\"_blank\">upgrade</a> now \n",
       "or ensure your notebook will continue to use TensorFlow 1.x via the <code>%tensorflow_version 1.x</code> magic:\n",
       "<a href=\"https://colab.research.google.com/notebooks/tensorflow_version.ipynb\" target=\"_blank\">more info</a>.</p>\n"
      ],
      "text/plain": [
       "<IPython.core.display.HTML object>"
      ]
     },
     "metadata": {
      "tags": []
     },
     "output_type": "display_data"
    },
    {
     "data": {
      "application/vnd.jupyter.widget-view+json": {
       "model_id": "a137f6d85cc34f789ce6ad75e5eac3ec",
       "version_major": 2,
       "version_minor": 0
      },
      "text/plain": [
       "HBox(children=(IntProgress(value=0, description='Downloading', max=1042301, style=ProgressStyle(description_wi…"
      ]
     },
     "metadata": {
      "tags": []
     },
     "output_type": "display_data"
    },
    {
     "name": "stdout",
     "output_type": "stream",
     "text": [
      "\n"
     ]
    },
    {
     "data": {
      "application/vnd.jupyter.widget-view+json": {
       "model_id": "727cd93ff17641ccb7b9575c1c9149f0",
       "version_major": 2,
       "version_minor": 0
      },
      "text/plain": [
       "HBox(children=(IntProgress(value=0, description='Downloading', max=456318, style=ProgressStyle(description_wid…"
      ]
     },
     "metadata": {
      "tags": []
     },
     "output_type": "display_data"
    },
    {
     "name": "stdout",
     "output_type": "stream",
     "text": [
      "\n"
     ]
    },
    {
     "data": {
      "application/vnd.jupyter.widget-view+json": {
       "model_id": "fe7c845b13824d83a447496a82c743bd",
       "version_major": 2,
       "version_minor": 0
      },
      "text/plain": [
       "HBox(children=(IntProgress(value=0, description='Downloading', max=224, style=ProgressStyle(description_width=…"
      ]
     },
     "metadata": {
      "tags": []
     },
     "output_type": "display_data"
    },
    {
     "name": "stdout",
     "output_type": "stream",
     "text": [
      "\n"
     ]
    },
    {
     "data": {
      "application/vnd.jupyter.widget-view+json": {
       "model_id": "9bb56aac79314738bc00c5fc61a0279a",
       "version_major": 2,
       "version_minor": 0
      },
      "text/plain": [
       "HBox(children=(IntProgress(value=0, description='Downloading', max=548118077, style=ProgressStyle(description_…"
      ]
     },
     "metadata": {
      "tags": []
     },
     "output_type": "display_data"
    },
    {
     "name": "stdout",
     "output_type": "stream",
     "text": [
      "\n"
     ]
    }
   ],
   "source": [
    "import torch\n",
    "from transformers import (\n",
    "    GPT2LMHeadModel,\n",
    "    GPT2Tokenizer\n",
    ")\n",
    "\n",
    "device = torch.device('cpu') if not torch.cuda.is_available() else torch.device('cuda:0')\n",
    "\n",
    "tokenizer = GPT2Tokenizer.from_pretrained(\"gpt2\")\n",
    "model = GPT2LMHeadModel.from_pretrained(\"gpt2\")\n",
    "model.to(device);"
   ]
  },
  {
   "cell_type": "markdown",
   "metadata": {
    "colab_type": "text",
    "id": "7_jdurOM4b5F"
   },
   "source": [
    "#### Generate (Sampling)\n",
    "\n",
    "We'll talk about other ways to generate later in the course."
   ]
  },
  {
   "cell_type": "code",
   "execution_count": 48,
   "metadata": {
    "colab": {
     "base_uri": "https://localhost:8080/",
     "height": 615
    },
    "colab_type": "code",
    "id": "eD4o1XKe4b5G",
    "outputId": "66f9641e-2011-401e-f910-42e75e0f77b6"
   },
   "outputs": [
    {
     "name": "stdout",
     "output_type": "stream",
     "text": [
      "My favorite food is the chicken and the chili or a chili to accompany it. But, really what I want to do is, what are the best hot dogs, most of the hot dogs in my world are hot dogs. The problem is, we don't have the same kind of food experience. How do we do that? We can all get it together with a little bit of help from our food, but then there is a limit to how much good a good food can do. This is\n",
      "---------------------------------------------------\n",
      "My favorite food is always the best with cheese. We like to serve our customers with their favorite foods. I've been working in the hospital a week and am happy to see it done properly, but my job is to bring in great cheeses and I don't have time to do that. Not even my wife, who I've been to see for years, can finish her burger to a decent degree because our guests have been very understanding and welcoming. The food is good too, although we will\n",
      "---------------------------------------------------\n",
      "My favorite food is from my mom's oven.\n",
      "\n",
      "I had this recipe for her Christmas card from a friend.\n",
      "\n",
      "I wanted to include a piece from the New England cookbook but had to turn to a recipe posted on Reddit. I had tried several recipes before realizing I'm not the best fan and have to leave it at that. It's pretty basic, but if you do like the type of cookie dough that she uses then I highly recommend it.\n",
      "\n",
      "What You'll Need\n",
      "---------------------------------------------------\n",
      "My favorite food is in my favorite foods\n",
      "\n",
      "How about a good cheese?\n",
      "\n",
      "I like it very much\n",
      "\n",
      "How about a good onion?\n",
      "\n",
      "I like it very much\n",
      "\n",
      "In other words, are you sure you are not liking all our food? Let's see?\n",
      "\n",
      "Asking about the best foods isn't actually all that big of a stretch, but it's a lot more interesting stuff. The questions about which foods the most nutritious would be included and the other\n",
      "---------------------------------------------------\n",
      "My favorite food is probably my best friend's favorite meal. It is literally a day in the life after dinner with my mom going over their favorite foods.\n",
      "\n",
      "So to summarize the meal with some basic food facts:\n",
      "\n",
      "1) Food you like isn't too fattening. And if there isn't enough fattening in your food to kill off your food coma you should probably go out for a night out with a couple of delicious foods.\n",
      "\n",
      "2) You might never be\n",
      "---------------------------------------------------\n"
     ]
    }
   ],
   "source": [
    "prefix = 'My favorite food is'\n",
    "\n",
    "max_length = 100\n",
    "num_samples = 5\n",
    "\n",
    "inp = torch.tensor([tokenizer.encode(prefix)], device=device).repeat(num_samples, 1)\n",
    "\n",
    "out = model.generate(\n",
    "    input_ids=inp,\n",
    "    do_sample=True,\n",
    "    max_length=max_length\n",
    ")\n",
    "\n",
    "for i in range(num_samples):\n",
    "    sample = tokenizer.decode(out[i])\n",
    "    print(sample)\n",
    "    print('---------------------------------------------------')"
   ]
  },
  {
   "cell_type": "code",
   "execution_count": 0,
   "metadata": {
    "colab": {},
    "colab_type": "code",
    "id": "et-AQWQW4b5I"
   },
   "outputs": [],
   "source": []
  }
 ],
 "metadata": {
  "accelerator": "GPU",
  "colab": {
   "collapsed_sections": [],
   "include_colab_link": true,
   "name": "ff_rnnlms_v2.ipynb",
   "provenance": []
  },
  "kernelspec": {
   "display_name": "Python 3",
   "language": "python",
   "name": "python3"
  },
  "language_info": {
   "codemirror_mode": {
    "name": "ipython",
    "version": 3
   },
   "file_extension": ".py",
   "mimetype": "text/x-python",
   "name": "python",
   "nbconvert_exporter": "python",
   "pygments_lexer": "ipython3",
   "version": "3.7.3"
  },
  "widgets": {
   "application/vnd.jupyter.widget-state+json": {
    "11b5e8e43bd4429fb33b20e15743d5de": {
     "model_module": "@jupyter-widgets/base",
     "model_name": "LayoutModel",
     "state": {
      "_model_module": "@jupyter-widgets/base",
      "_model_module_version": "1.2.0",
      "_model_name": "LayoutModel",
      "_view_count": null,
      "_view_module": "@jupyter-widgets/base",
      "_view_module_version": "1.2.0",
      "_view_name": "LayoutView",
      "align_content": null,
      "align_items": null,
      "align_self": null,
      "border": null,
      "bottom": null,
      "display": null,
      "flex": null,
      "flex_flow": null,
      "grid_area": null,
      "grid_auto_columns": null,
      "grid_auto_flow": null,
      "grid_auto_rows": null,
      "grid_column": null,
      "grid_gap": null,
      "grid_row": null,
      "grid_template_areas": null,
      "grid_template_columns": null,
      "grid_template_rows": null,
      "height": null,
      "justify_content": null,
      "justify_items": null,
      "left": null,
      "margin": null,
      "max_height": null,
      "max_width": null,
      "min_height": null,
      "min_width": null,
      "object_fit": null,
      "object_position": null,
      "order": null,
      "overflow": null,
      "overflow_x": null,
      "overflow_y": null,
      "padding": null,
      "right": null,
      "top": null,
      "visibility": null,
      "width": null
     }
    },
    "13f6f96c509b4ade9175dcbe2245cfff": {
     "model_module": "@jupyter-widgets/controls",
     "model_name": "HTMLModel",
     "state": {
      "_dom_classes": [],
      "_model_module": "@jupyter-widgets/controls",
      "_model_module_version": "1.5.0",
      "_model_name": "HTMLModel",
      "_view_count": null,
      "_view_module": "@jupyter-widgets/controls",
      "_view_module_version": "1.5.0",
      "_view_name": "HTMLView",
      "description": "",
      "description_tooltip": null,
      "layout": "IPY_MODEL_3addbd8f067d4ed3937b9ed49242e221",
      "placeholder": "​",
      "style": "IPY_MODEL_2efb550984b547df8d2284feaf429b02",
      "value": "100% 456k/456k [00:00&lt;00:00, 3.13MB/s]"
     }
    },
    "183d36386d734620bbf1011c3ab93164": {
     "model_module": "@jupyter-widgets/controls",
     "model_name": "HTMLModel",
     "state": {
      "_dom_classes": [],
      "_model_module": "@jupyter-widgets/controls",
      "_model_module_version": "1.5.0",
      "_model_name": "HTMLModel",
      "_view_count": null,
      "_view_module": "@jupyter-widgets/controls",
      "_view_module_version": "1.5.0",
      "_view_name": "HTMLView",
      "description": "",
      "description_tooltip": null,
      "layout": "IPY_MODEL_7cfefffb97c8404aba702bffb2fab748",
      "placeholder": "​",
      "style": "IPY_MODEL_596edf20d57742fd91ff1aa922ad1a35",
      "value": "100% 548M/548M [00:11&lt;00:00, 48.2MB/s]"
     }
    },
    "21a95fb8def745969d0aa1587c663cc5": {
     "model_module": "@jupyter-widgets/controls",
     "model_name": "DescriptionStyleModel",
     "state": {
      "_model_module": "@jupyter-widgets/controls",
      "_model_module_version": "1.5.0",
      "_model_name": "DescriptionStyleModel",
      "_view_count": null,
      "_view_module": "@jupyter-widgets/base",
      "_view_module_version": "1.2.0",
      "_view_name": "StyleView",
      "description_width": ""
     }
    },
    "2efb550984b547df8d2284feaf429b02": {
     "model_module": "@jupyter-widgets/controls",
     "model_name": "DescriptionStyleModel",
     "state": {
      "_model_module": "@jupyter-widgets/controls",
      "_model_module_version": "1.5.0",
      "_model_name": "DescriptionStyleModel",
      "_view_count": null,
      "_view_module": "@jupyter-widgets/base",
      "_view_module_version": "1.2.0",
      "_view_name": "StyleView",
      "description_width": ""
     }
    },
    "308b4e756f704785a53fac1e9b3a55a7": {
     "model_module": "@jupyter-widgets/controls",
     "model_name": "ProgressStyleModel",
     "state": {
      "_model_module": "@jupyter-widgets/controls",
      "_model_module_version": "1.5.0",
      "_model_name": "ProgressStyleModel",
      "_view_count": null,
      "_view_module": "@jupyter-widgets/base",
      "_view_module_version": "1.2.0",
      "_view_name": "StyleView",
      "bar_color": null,
      "description_width": "initial"
     }
    },
    "3addbd8f067d4ed3937b9ed49242e221": {
     "model_module": "@jupyter-widgets/base",
     "model_name": "LayoutModel",
     "state": {
      "_model_module": "@jupyter-widgets/base",
      "_model_module_version": "1.2.0",
      "_model_name": "LayoutModel",
      "_view_count": null,
      "_view_module": "@jupyter-widgets/base",
      "_view_module_version": "1.2.0",
      "_view_name": "LayoutView",
      "align_content": null,
      "align_items": null,
      "align_self": null,
      "border": null,
      "bottom": null,
      "display": null,
      "flex": null,
      "flex_flow": null,
      "grid_area": null,
      "grid_auto_columns": null,
      "grid_auto_flow": null,
      "grid_auto_rows": null,
      "grid_column": null,
      "grid_gap": null,
      "grid_row": null,
      "grid_template_areas": null,
      "grid_template_columns": null,
      "grid_template_rows": null,
      "height": null,
      "justify_content": null,
      "justify_items": null,
      "left": null,
      "margin": null,
      "max_height": null,
      "max_width": null,
      "min_height": null,
      "min_width": null,
      "object_fit": null,
      "object_position": null,
      "order": null,
      "overflow": null,
      "overflow_x": null,
      "overflow_y": null,
      "padding": null,
      "right": null,
      "top": null,
      "visibility": null,
      "width": null
     }
    },
    "3b5ca7f9d38e488a89e192ffb3e2cf55": {
     "model_module": "@jupyter-widgets/controls",
     "model_name": "ProgressStyleModel",
     "state": {
      "_model_module": "@jupyter-widgets/controls",
      "_model_module_version": "1.5.0",
      "_model_name": "ProgressStyleModel",
      "_view_count": null,
      "_view_module": "@jupyter-widgets/base",
      "_view_module_version": "1.2.0",
      "_view_name": "StyleView",
      "bar_color": null,
      "description_width": "initial"
     }
    },
    "490898aac5444f158ec89d1151d7774a": {
     "model_module": "@jupyter-widgets/base",
     "model_name": "LayoutModel",
     "state": {
      "_model_module": "@jupyter-widgets/base",
      "_model_module_version": "1.2.0",
      "_model_name": "LayoutModel",
      "_view_count": null,
      "_view_module": "@jupyter-widgets/base",
      "_view_module_version": "1.2.0",
      "_view_name": "LayoutView",
      "align_content": null,
      "align_items": null,
      "align_self": null,
      "border": null,
      "bottom": null,
      "display": null,
      "flex": null,
      "flex_flow": null,
      "grid_area": null,
      "grid_auto_columns": null,
      "grid_auto_flow": null,
      "grid_auto_rows": null,
      "grid_column": null,
      "grid_gap": null,
      "grid_row": null,
      "grid_template_areas": null,
      "grid_template_columns": null,
      "grid_template_rows": null,
      "height": null,
      "justify_content": null,
      "justify_items": null,
      "left": null,
      "margin": null,
      "max_height": null,
      "max_width": null,
      "min_height": null,
      "min_width": null,
      "object_fit": null,
      "object_position": null,
      "order": null,
      "overflow": null,
      "overflow_x": null,
      "overflow_y": null,
      "padding": null,
      "right": null,
      "top": null,
      "visibility": null,
      "width": null
     }
    },
    "4c3c6fda0cfd477cac092113c599dbf6": {
     "model_module": "@jupyter-widgets/controls",
     "model_name": "IntProgressModel",
     "state": {
      "_dom_classes": [],
      "_model_module": "@jupyter-widgets/controls",
      "_model_module_version": "1.5.0",
      "_model_name": "IntProgressModel",
      "_view_count": null,
      "_view_module": "@jupyter-widgets/controls",
      "_view_module_version": "1.5.0",
      "_view_name": "ProgressView",
      "bar_style": "success",
      "description": "Downloading",
      "description_tooltip": null,
      "layout": "IPY_MODEL_68d918e92aaa4c3d8fe33b54bb0d2f57",
      "max": 548118077,
      "min": 0,
      "orientation": "horizontal",
      "style": "IPY_MODEL_308b4e756f704785a53fac1e9b3a55a7",
      "value": 548118077
     }
    },
    "4e9c21e8e1b64aa3bddc92817ef05677": {
     "model_module": "@jupyter-widgets/controls",
     "model_name": "ProgressStyleModel",
     "state": {
      "_model_module": "@jupyter-widgets/controls",
      "_model_module_version": "1.5.0",
      "_model_name": "ProgressStyleModel",
      "_view_count": null,
      "_view_module": "@jupyter-widgets/base",
      "_view_module_version": "1.2.0",
      "_view_name": "StyleView",
      "bar_color": null,
      "description_width": "initial"
     }
    },
    "5127ee82a6b843b18e5b7e59c71bf8cc": {
     "model_module": "@jupyter-widgets/base",
     "model_name": "LayoutModel",
     "state": {
      "_model_module": "@jupyter-widgets/base",
      "_model_module_version": "1.2.0",
      "_model_name": "LayoutModel",
      "_view_count": null,
      "_view_module": "@jupyter-widgets/base",
      "_view_module_version": "1.2.0",
      "_view_name": "LayoutView",
      "align_content": null,
      "align_items": null,
      "align_self": null,
      "border": null,
      "bottom": null,
      "display": null,
      "flex": null,
      "flex_flow": null,
      "grid_area": null,
      "grid_auto_columns": null,
      "grid_auto_flow": null,
      "grid_auto_rows": null,
      "grid_column": null,
      "grid_gap": null,
      "grid_row": null,
      "grid_template_areas": null,
      "grid_template_columns": null,
      "grid_template_rows": null,
      "height": null,
      "justify_content": null,
      "justify_items": null,
      "left": null,
      "margin": null,
      "max_height": null,
      "max_width": null,
      "min_height": null,
      "min_width": null,
      "object_fit": null,
      "object_position": null,
      "order": null,
      "overflow": null,
      "overflow_x": null,
      "overflow_y": null,
      "padding": null,
      "right": null,
      "top": null,
      "visibility": null,
      "width": null
     }
    },
    "546de62329414c7aafc74d6ad71093db": {
     "model_module": "@jupyter-widgets/base",
     "model_name": "LayoutModel",
     "state": {
      "_model_module": "@jupyter-widgets/base",
      "_model_module_version": "1.2.0",
      "_model_name": "LayoutModel",
      "_view_count": null,
      "_view_module": "@jupyter-widgets/base",
      "_view_module_version": "1.2.0",
      "_view_name": "LayoutView",
      "align_content": null,
      "align_items": null,
      "align_self": null,
      "border": null,
      "bottom": null,
      "display": null,
      "flex": null,
      "flex_flow": null,
      "grid_area": null,
      "grid_auto_columns": null,
      "grid_auto_flow": null,
      "grid_auto_rows": null,
      "grid_column": null,
      "grid_gap": null,
      "grid_row": null,
      "grid_template_areas": null,
      "grid_template_columns": null,
      "grid_template_rows": null,
      "height": null,
      "justify_content": null,
      "justify_items": null,
      "left": null,
      "margin": null,
      "max_height": null,
      "max_width": null,
      "min_height": null,
      "min_width": null,
      "object_fit": null,
      "object_position": null,
      "order": null,
      "overflow": null,
      "overflow_x": null,
      "overflow_y": null,
      "padding": null,
      "right": null,
      "top": null,
      "visibility": null,
      "width": null
     }
    },
    "596edf20d57742fd91ff1aa922ad1a35": {
     "model_module": "@jupyter-widgets/controls",
     "model_name": "DescriptionStyleModel",
     "state": {
      "_model_module": "@jupyter-widgets/controls",
      "_model_module_version": "1.5.0",
      "_model_name": "DescriptionStyleModel",
      "_view_count": null,
      "_view_module": "@jupyter-widgets/base",
      "_view_module_version": "1.2.0",
      "_view_name": "StyleView",
      "description_width": ""
     }
    },
    "627e4102a5c44c2f98a0537527a63733": {
     "model_module": "@jupyter-widgets/controls",
     "model_name": "HTMLModel",
     "state": {
      "_dom_classes": [],
      "_model_module": "@jupyter-widgets/controls",
      "_model_module_version": "1.5.0",
      "_model_name": "HTMLModel",
      "_view_count": null,
      "_view_module": "@jupyter-widgets/controls",
      "_view_module_version": "1.5.0",
      "_view_name": "HTMLView",
      "description": "",
      "description_tooltip": null,
      "layout": "IPY_MODEL_67e5f992c24b4c48a67fb991d7a4859b",
      "placeholder": "​",
      "style": "IPY_MODEL_21a95fb8def745969d0aa1587c663cc5",
      "value": "100% 224/224 [00:00&lt;00:00, 4.79kB/s]"
     }
    },
    "6664f804c52741d7ab64e1441a096d5a": {
     "model_module": "@jupyter-widgets/base",
     "model_name": "LayoutModel",
     "state": {
      "_model_module": "@jupyter-widgets/base",
      "_model_module_version": "1.2.0",
      "_model_name": "LayoutModel",
      "_view_count": null,
      "_view_module": "@jupyter-widgets/base",
      "_view_module_version": "1.2.0",
      "_view_name": "LayoutView",
      "align_content": null,
      "align_items": null,
      "align_self": null,
      "border": null,
      "bottom": null,
      "display": null,
      "flex": null,
      "flex_flow": null,
      "grid_area": null,
      "grid_auto_columns": null,
      "grid_auto_flow": null,
      "grid_auto_rows": null,
      "grid_column": null,
      "grid_gap": null,
      "grid_row": null,
      "grid_template_areas": null,
      "grid_template_columns": null,
      "grid_template_rows": null,
      "height": null,
      "justify_content": null,
      "justify_items": null,
      "left": null,
      "margin": null,
      "max_height": null,
      "max_width": null,
      "min_height": null,
      "min_width": null,
      "object_fit": null,
      "object_position": null,
      "order": null,
      "overflow": null,
      "overflow_x": null,
      "overflow_y": null,
      "padding": null,
      "right": null,
      "top": null,
      "visibility": null,
      "width": null
     }
    },
    "67e5f992c24b4c48a67fb991d7a4859b": {
     "model_module": "@jupyter-widgets/base",
     "model_name": "LayoutModel",
     "state": {
      "_model_module": "@jupyter-widgets/base",
      "_model_module_version": "1.2.0",
      "_model_name": "LayoutModel",
      "_view_count": null,
      "_view_module": "@jupyter-widgets/base",
      "_view_module_version": "1.2.0",
      "_view_name": "LayoutView",
      "align_content": null,
      "align_items": null,
      "align_self": null,
      "border": null,
      "bottom": null,
      "display": null,
      "flex": null,
      "flex_flow": null,
      "grid_area": null,
      "grid_auto_columns": null,
      "grid_auto_flow": null,
      "grid_auto_rows": null,
      "grid_column": null,
      "grid_gap": null,
      "grid_row": null,
      "grid_template_areas": null,
      "grid_template_columns": null,
      "grid_template_rows": null,
      "height": null,
      "justify_content": null,
      "justify_items": null,
      "left": null,
      "margin": null,
      "max_height": null,
      "max_width": null,
      "min_height": null,
      "min_width": null,
      "object_fit": null,
      "object_position": null,
      "order": null,
      "overflow": null,
      "overflow_x": null,
      "overflow_y": null,
      "padding": null,
      "right": null,
      "top": null,
      "visibility": null,
      "width": null
     }
    },
    "68d918e92aaa4c3d8fe33b54bb0d2f57": {
     "model_module": "@jupyter-widgets/base",
     "model_name": "LayoutModel",
     "state": {
      "_model_module": "@jupyter-widgets/base",
      "_model_module_version": "1.2.0",
      "_model_name": "LayoutModel",
      "_view_count": null,
      "_view_module": "@jupyter-widgets/base",
      "_view_module_version": "1.2.0",
      "_view_name": "LayoutView",
      "align_content": null,
      "align_items": null,
      "align_self": null,
      "border": null,
      "bottom": null,
      "display": null,
      "flex": null,
      "flex_flow": null,
      "grid_area": null,
      "grid_auto_columns": null,
      "grid_auto_flow": null,
      "grid_auto_rows": null,
      "grid_column": null,
      "grid_gap": null,
      "grid_row": null,
      "grid_template_areas": null,
      "grid_template_columns": null,
      "grid_template_rows": null,
      "height": null,
      "justify_content": null,
      "justify_items": null,
      "left": null,
      "margin": null,
      "max_height": null,
      "max_width": null,
      "min_height": null,
      "min_width": null,
      "object_fit": null,
      "object_position": null,
      "order": null,
      "overflow": null,
      "overflow_x": null,
      "overflow_y": null,
      "padding": null,
      "right": null,
      "top": null,
      "visibility": null,
      "width": null
     }
    },
    "727cd93ff17641ccb7b9575c1c9149f0": {
     "model_module": "@jupyter-widgets/controls",
     "model_name": "HBoxModel",
     "state": {
      "_dom_classes": [],
      "_model_module": "@jupyter-widgets/controls",
      "_model_module_version": "1.5.0",
      "_model_name": "HBoxModel",
      "_view_count": null,
      "_view_module": "@jupyter-widgets/controls",
      "_view_module_version": "1.5.0",
      "_view_name": "HBoxView",
      "box_style": "",
      "children": [
       "IPY_MODEL_9e208326b1ea47ae810e387b91170382",
       "IPY_MODEL_13f6f96c509b4ade9175dcbe2245cfff"
      ],
      "layout": "IPY_MODEL_7705d4e7d5994d618ab03025b887cddb"
     }
    },
    "74b13299f96444ff8c4238584dd290e6": {
     "model_module": "@jupyter-widgets/controls",
     "model_name": "HTMLModel",
     "state": {
      "_dom_classes": [],
      "_model_module": "@jupyter-widgets/controls",
      "_model_module_version": "1.5.0",
      "_model_name": "HTMLModel",
      "_view_count": null,
      "_view_module": "@jupyter-widgets/controls",
      "_view_module_version": "1.5.0",
      "_view_name": "HTMLView",
      "description": "",
      "description_tooltip": null,
      "layout": "IPY_MODEL_c5a053a763754c90bc69288c52de1d75",
      "placeholder": "​",
      "style": "IPY_MODEL_ee7c79799fe44697ab93960d1c1de663",
      "value": "100% 1.04M/1.04M [00:00&lt;00:00, 5.77MB/s]"
     }
    },
    "7705d4e7d5994d618ab03025b887cddb": {
     "model_module": "@jupyter-widgets/base",
     "model_name": "LayoutModel",
     "state": {
      "_model_module": "@jupyter-widgets/base",
      "_model_module_version": "1.2.0",
      "_model_name": "LayoutModel",
      "_view_count": null,
      "_view_module": "@jupyter-widgets/base",
      "_view_module_version": "1.2.0",
      "_view_name": "LayoutView",
      "align_content": null,
      "align_items": null,
      "align_self": null,
      "border": null,
      "bottom": null,
      "display": null,
      "flex": null,
      "flex_flow": null,
      "grid_area": null,
      "grid_auto_columns": null,
      "grid_auto_flow": null,
      "grid_auto_rows": null,
      "grid_column": null,
      "grid_gap": null,
      "grid_row": null,
      "grid_template_areas": null,
      "grid_template_columns": null,
      "grid_template_rows": null,
      "height": null,
      "justify_content": null,
      "justify_items": null,
      "left": null,
      "margin": null,
      "max_height": null,
      "max_width": null,
      "min_height": null,
      "min_width": null,
      "object_fit": null,
      "object_position": null,
      "order": null,
      "overflow": null,
      "overflow_x": null,
      "overflow_y": null,
      "padding": null,
      "right": null,
      "top": null,
      "visibility": null,
      "width": null
     }
    },
    "7cfefffb97c8404aba702bffb2fab748": {
     "model_module": "@jupyter-widgets/base",
     "model_name": "LayoutModel",
     "state": {
      "_model_module": "@jupyter-widgets/base",
      "_model_module_version": "1.2.0",
      "_model_name": "LayoutModel",
      "_view_count": null,
      "_view_module": "@jupyter-widgets/base",
      "_view_module_version": "1.2.0",
      "_view_name": "LayoutView",
      "align_content": null,
      "align_items": null,
      "align_self": null,
      "border": null,
      "bottom": null,
      "display": null,
      "flex": null,
      "flex_flow": null,
      "grid_area": null,
      "grid_auto_columns": null,
      "grid_auto_flow": null,
      "grid_auto_rows": null,
      "grid_column": null,
      "grid_gap": null,
      "grid_row": null,
      "grid_template_areas": null,
      "grid_template_columns": null,
      "grid_template_rows": null,
      "height": null,
      "justify_content": null,
      "justify_items": null,
      "left": null,
      "margin": null,
      "max_height": null,
      "max_width": null,
      "min_height": null,
      "min_width": null,
      "object_fit": null,
      "object_position": null,
      "order": null,
      "overflow": null,
      "overflow_x": null,
      "overflow_y": null,
      "padding": null,
      "right": null,
      "top": null,
      "visibility": null,
      "width": null
     }
    },
    "866a024f194a4f348df0e4a3c3cd2a0d": {
     "model_module": "@jupyter-widgets/controls",
     "model_name": "ProgressStyleModel",
     "state": {
      "_model_module": "@jupyter-widgets/controls",
      "_model_module_version": "1.5.0",
      "_model_name": "ProgressStyleModel",
      "_view_count": null,
      "_view_module": "@jupyter-widgets/base",
      "_view_module_version": "1.2.0",
      "_view_name": "StyleView",
      "bar_color": null,
      "description_width": "initial"
     }
    },
    "912382ccf1d745e786d7a0dac5f2e54a": {
     "model_module": "@jupyter-widgets/controls",
     "model_name": "IntProgressModel",
     "state": {
      "_dom_classes": [],
      "_model_module": "@jupyter-widgets/controls",
      "_model_module_version": "1.5.0",
      "_model_name": "IntProgressModel",
      "_view_count": null,
      "_view_module": "@jupyter-widgets/controls",
      "_view_module_version": "1.5.0",
      "_view_name": "ProgressView",
      "bar_style": "success",
      "description": "Downloading",
      "description_tooltip": null,
      "layout": "IPY_MODEL_d466cd96f75a487da830d471d9bda162",
      "max": 1042301,
      "min": 0,
      "orientation": "horizontal",
      "style": "IPY_MODEL_866a024f194a4f348df0e4a3c3cd2a0d",
      "value": 1042301
     }
    },
    "9bb56aac79314738bc00c5fc61a0279a": {
     "model_module": "@jupyter-widgets/controls",
     "model_name": "HBoxModel",
     "state": {
      "_dom_classes": [],
      "_model_module": "@jupyter-widgets/controls",
      "_model_module_version": "1.5.0",
      "_model_name": "HBoxModel",
      "_view_count": null,
      "_view_module": "@jupyter-widgets/controls",
      "_view_module_version": "1.5.0",
      "_view_name": "HBoxView",
      "box_style": "",
      "children": [
       "IPY_MODEL_4c3c6fda0cfd477cac092113c599dbf6",
       "IPY_MODEL_183d36386d734620bbf1011c3ab93164"
      ],
      "layout": "IPY_MODEL_490898aac5444f158ec89d1151d7774a"
     }
    },
    "9e208326b1ea47ae810e387b91170382": {
     "model_module": "@jupyter-widgets/controls",
     "model_name": "IntProgressModel",
     "state": {
      "_dom_classes": [],
      "_model_module": "@jupyter-widgets/controls",
      "_model_module_version": "1.5.0",
      "_model_name": "IntProgressModel",
      "_view_count": null,
      "_view_module": "@jupyter-widgets/controls",
      "_view_module_version": "1.5.0",
      "_view_name": "ProgressView",
      "bar_style": "success",
      "description": "Downloading",
      "description_tooltip": null,
      "layout": "IPY_MODEL_5127ee82a6b843b18e5b7e59c71bf8cc",
      "max": 456318,
      "min": 0,
      "orientation": "horizontal",
      "style": "IPY_MODEL_4e9c21e8e1b64aa3bddc92817ef05677",
      "value": 456318
     }
    },
    "a137f6d85cc34f789ce6ad75e5eac3ec": {
     "model_module": "@jupyter-widgets/controls",
     "model_name": "HBoxModel",
     "state": {
      "_dom_classes": [],
      "_model_module": "@jupyter-widgets/controls",
      "_model_module_version": "1.5.0",
      "_model_name": "HBoxModel",
      "_view_count": null,
      "_view_module": "@jupyter-widgets/controls",
      "_view_module_version": "1.5.0",
      "_view_name": "HBoxView",
      "box_style": "",
      "children": [
       "IPY_MODEL_912382ccf1d745e786d7a0dac5f2e54a",
       "IPY_MODEL_74b13299f96444ff8c4238584dd290e6"
      ],
      "layout": "IPY_MODEL_546de62329414c7aafc74d6ad71093db"
     }
    },
    "c4dc49bfc2e14280a82d174032be87ba": {
     "model_module": "@jupyter-widgets/controls",
     "model_name": "IntProgressModel",
     "state": {
      "_dom_classes": [],
      "_model_module": "@jupyter-widgets/controls",
      "_model_module_version": "1.5.0",
      "_model_name": "IntProgressModel",
      "_view_count": null,
      "_view_module": "@jupyter-widgets/controls",
      "_view_module_version": "1.5.0",
      "_view_name": "ProgressView",
      "bar_style": "success",
      "description": "Downloading",
      "description_tooltip": null,
      "layout": "IPY_MODEL_11b5e8e43bd4429fb33b20e15743d5de",
      "max": 224,
      "min": 0,
      "orientation": "horizontal",
      "style": "IPY_MODEL_3b5ca7f9d38e488a89e192ffb3e2cf55",
      "value": 224
     }
    },
    "c5a053a763754c90bc69288c52de1d75": {
     "model_module": "@jupyter-widgets/base",
     "model_name": "LayoutModel",
     "state": {
      "_model_module": "@jupyter-widgets/base",
      "_model_module_version": "1.2.0",
      "_model_name": "LayoutModel",
      "_view_count": null,
      "_view_module": "@jupyter-widgets/base",
      "_view_module_version": "1.2.0",
      "_view_name": "LayoutView",
      "align_content": null,
      "align_items": null,
      "align_self": null,
      "border": null,
      "bottom": null,
      "display": null,
      "flex": null,
      "flex_flow": null,
      "grid_area": null,
      "grid_auto_columns": null,
      "grid_auto_flow": null,
      "grid_auto_rows": null,
      "grid_column": null,
      "grid_gap": null,
      "grid_row": null,
      "grid_template_areas": null,
      "grid_template_columns": null,
      "grid_template_rows": null,
      "height": null,
      "justify_content": null,
      "justify_items": null,
      "left": null,
      "margin": null,
      "max_height": null,
      "max_width": null,
      "min_height": null,
      "min_width": null,
      "object_fit": null,
      "object_position": null,
      "order": null,
      "overflow": null,
      "overflow_x": null,
      "overflow_y": null,
      "padding": null,
      "right": null,
      "top": null,
      "visibility": null,
      "width": null
     }
    },
    "d466cd96f75a487da830d471d9bda162": {
     "model_module": "@jupyter-widgets/base",
     "model_name": "LayoutModel",
     "state": {
      "_model_module": "@jupyter-widgets/base",
      "_model_module_version": "1.2.0",
      "_model_name": "LayoutModel",
      "_view_count": null,
      "_view_module": "@jupyter-widgets/base",
      "_view_module_version": "1.2.0",
      "_view_name": "LayoutView",
      "align_content": null,
      "align_items": null,
      "align_self": null,
      "border": null,
      "bottom": null,
      "display": null,
      "flex": null,
      "flex_flow": null,
      "grid_area": null,
      "grid_auto_columns": null,
      "grid_auto_flow": null,
      "grid_auto_rows": null,
      "grid_column": null,
      "grid_gap": null,
      "grid_row": null,
      "grid_template_areas": null,
      "grid_template_columns": null,
      "grid_template_rows": null,
      "height": null,
      "justify_content": null,
      "justify_items": null,
      "left": null,
      "margin": null,
      "max_height": null,
      "max_width": null,
      "min_height": null,
      "min_width": null,
      "object_fit": null,
      "object_position": null,
      "order": null,
      "overflow": null,
      "overflow_x": null,
      "overflow_y": null,
      "padding": null,
      "right": null,
      "top": null,
      "visibility": null,
      "width": null
     }
    },
    "ee7c79799fe44697ab93960d1c1de663": {
     "model_module": "@jupyter-widgets/controls",
     "model_name": "DescriptionStyleModel",
     "state": {
      "_model_module": "@jupyter-widgets/controls",
      "_model_module_version": "1.5.0",
      "_model_name": "DescriptionStyleModel",
      "_view_count": null,
      "_view_module": "@jupyter-widgets/base",
      "_view_module_version": "1.2.0",
      "_view_name": "StyleView",
      "description_width": ""
     }
    },
    "fe7c845b13824d83a447496a82c743bd": {
     "model_module": "@jupyter-widgets/controls",
     "model_name": "HBoxModel",
     "state": {
      "_dom_classes": [],
      "_model_module": "@jupyter-widgets/controls",
      "_model_module_version": "1.5.0",
      "_model_name": "HBoxModel",
      "_view_count": null,
      "_view_module": "@jupyter-widgets/controls",
      "_view_module_version": "1.5.0",
      "_view_name": "HBoxView",
      "box_style": "",
      "children": [
       "IPY_MODEL_c4dc49bfc2e14280a82d174032be87ba",
       "IPY_MODEL_627e4102a5c44c2f98a0537527a63733"
      ],
      "layout": "IPY_MODEL_6664f804c52741d7ab64e1441a096d5a"
     }
    }
   }
  }
 },
 "nbformat": 4,
 "nbformat_minor": 1
}
